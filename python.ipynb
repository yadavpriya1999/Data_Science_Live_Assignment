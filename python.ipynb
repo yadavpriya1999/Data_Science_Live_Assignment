{
 "cells": [
  {
   "cell_type": "markdown",
   "id": "af1c561b",
   "metadata": {},
   "source": [
    "# Question 1.1: Write the Answer to these questions."
   ]
  },
  {
   "cell_type": "code",
   "execution_count": 1,
   "id": "a0574f94",
   "metadata": {},
   "outputs": [],
   "source": [
    "#1.What is the difference between static and dynamic variable in Python?"
   ]
  },
  {
   "cell_type": "markdown",
   "id": "ab368e13",
   "metadata": {},
   "source": [
    "Static Variables:\n",
    "\n",
    " Variables that are shared among all instances of a class.\n"
   ]
  },
  {
   "cell_type": "code",
   "execution_count": 2,
   "id": "c2adbf76",
   "metadata": {},
   "outputs": [
    {
     "name": "stdout",
     "output_type": "stream",
     "text": [
      "2\n"
     ]
    }
   ],
   "source": [
    "class MyClass:\n",
    "    static_var = 0  # Static variable\n",
    "\n",
    "    def __init__(self):\n",
    "        MyClass.static_var += 1\n",
    "\n",
    "obj1 = MyClass()\n",
    "obj2 = MyClass()\n",
    "print(MyClass.static_var)"
   ]
  },
  {
   "cell_type": "markdown",
   "id": "0c0e3152",
   "metadata": {},
   "source": [
    "Dynamic Variables:\n",
    "\n",
    "Variables that are unique to each instance of a class."
   ]
  },
  {
   "cell_type": "code",
   "execution_count": 3,
   "id": "460ec059",
   "metadata": {},
   "outputs": [
    {
     "name": "stdout",
     "output_type": "stream",
     "text": [
      "10\n",
      "20\n"
     ]
    }
   ],
   "source": [
    "class MyClass:\n",
    "    def __init__(self, value):\n",
    "        self.dynamic_var = value  # Dynamic variable\n",
    "\n",
    "obj1 = MyClass(10)\n",
    "obj2 = MyClass(20)\n",
    "print(obj1.dynamic_var)  \n",
    "print(obj2.dynamic_var)  "
   ]
  },
  {
   "cell_type": "code",
   "execution_count": 5,
   "id": "3f01fd80",
   "metadata": {},
   "outputs": [],
   "source": [
    "#2.Exploln the purpose of \"pop\",\"popitem \",\"clear () \" In a dictionatry with suitable examples. "
   ]
  },
  {
   "cell_type": "markdown",
   "id": "8f86d039",
   "metadata": {},
   "source": [
    "pop()\n",
    "\n",
    "Removes the specified key and returns the corresponding value. If the key is not found, it raises a KeyError unless a default value is provided.\n",
    "\n",
    "Syntax: dict.pop(key[, default])"
   ]
  },
  {
   "cell_type": "code",
   "execution_count": 7,
   "id": "9bd35180",
   "metadata": {},
   "outputs": [
    {
     "name": "stdout",
     "output_type": "stream",
     "text": [
      "2\n",
      "{'a': 1, 'c': 3}\n",
      "Key not found\n"
     ]
    }
   ],
   "source": [
    "my_dict = {'a': 1, 'b': 2, 'c': 3}\n",
    "\n",
    "value = my_dict.pop('b')\n",
    "print(value) \n",
    "print(my_dict)\n",
    "\n",
    "value = my_dict.pop('d', 'Key not found')\n",
    "print(value)"
   ]
  },
  {
   "cell_type": "markdown",
   "id": "39c54eef",
   "metadata": {},
   "source": [
    "popitem()\n",
    "\n",
    "Removes and returns the last inserted key-value pair as a tuple. It raises a KeyError if the dictionary is empty.\n",
    "\n",
    "Syntax: dict.popitem()"
   ]
  },
  {
   "cell_type": "code",
   "execution_count": 8,
   "id": "e69dc1aa",
   "metadata": {},
   "outputs": [
    {
     "name": "stdout",
     "output_type": "stream",
     "text": [
      "('c', 3)\n",
      "{'a': 1, 'b': 2}\n",
      "('b', 2)\n",
      "{'a': 1}\n"
     ]
    }
   ],
   "source": [
    "my_dict = {'a': 1, 'b': 2, 'c': 3}\n",
    "item = my_dict.popitem()\n",
    "print(item) \n",
    "print(my_dict) \n",
    "\n",
    "item = my_dict.popitem()\n",
    "print(item) \n",
    "print(my_dict)  "
   ]
  },
  {
   "cell_type": "markdown",
   "id": "693a93fe",
   "metadata": {},
   "source": [
    "clear()\n",
    "\n",
    "Removes all items from the dictionary, leaving it empty.\n",
    "\n",
    "Syntax: dict.clear()"
   ]
  },
  {
   "cell_type": "code",
   "execution_count": 10,
   "id": "913051e3",
   "metadata": {},
   "outputs": [
    {
     "name": "stdout",
     "output_type": "stream",
     "text": [
      "{}\n"
     ]
    }
   ],
   "source": [
    "my_dict = {'a': 1, 'b': 2, 'c': 3}\n",
    "\n",
    "my_dict.clear()\n",
    "print(my_dict) "
   ]
  },
  {
   "cell_type": "code",
   "execution_count": 11,
   "id": "9566a0c1",
   "metadata": {},
   "outputs": [],
   "source": [
    "#What do you meon by FrozenSet? Explain it with suitable examples."
   ]
  },
  {
   "cell_type": "markdown",
   "id": "5c1a5b3d",
   "metadata": {},
   "source": [
    "\n",
    "A frozenset in Python is an immutable version of a set. Unlike regular sets, which can be modified after their creation (e.g., by adding or removing elements), a frozenset cannot be changed once it is created. This immutability makes frozenset hashable, meaning it can be used as a key in a dictionary or as an element of another set."
   ]
  },
  {
   "cell_type": "code",
   "execution_count": 12,
   "id": "1da41bcc",
   "metadata": {},
   "outputs": [
    {
     "name": "stdout",
     "output_type": "stream",
     "text": [
      "Original frozenset: frozenset({1, 2, 3, 4})\n",
      "Dictionary with frozenset keys: {frozenset({1, 2, 3}): 'value1', frozenset({4, 5, 6}): 'value2'}\n"
     ]
    }
   ],
   "source": [
    "# Creating a frozenset\n",
    "my_frozenset = frozenset([1, 2, 3, 4])\n",
    "print(\"Original frozenset:\", my_frozenset) \n",
    "\n",
    "my_dict = {frozenset([1, 2, 3]): \"value1\", frozenset([4, 5, 6]): \"value2\"}\n",
    "print(\"Dictionary with frozenset keys:\", my_dict)  "
   ]
  },
  {
   "cell_type": "code",
   "execution_count": 13,
   "id": "5513d8eb",
   "metadata": {},
   "outputs": [],
   "source": [
    "#Differentiate between mutable ond immutable data types in Python and give examples of mutable ond immutable data types."
   ]
  },
  {
   "cell_type": "markdown",
   "id": "5ac03559",
   "metadata": {},
   "source": [
    "Mutable Data Types\n",
    "\n",
    "Mutable data types are those whose values can be changed in place after their creation."
   ]
  },
  {
   "cell_type": "code",
   "execution_count": 17,
   "id": "bd29bea3",
   "metadata": {},
   "outputs": [],
   "source": [
    "my_list = [1, 2, 3]\n",
    "my_list.append(4)  \n",
    "my_list[1] = 5    "
   ]
  },
  {
   "cell_type": "markdown",
   "id": "19d2b6a8",
   "metadata": {},
   "source": [
    "Immutable Data Types\n",
    "\n",
    "Immutable data types are those whose values cannot be changed after their creation."
   ]
  },
  {
   "cell_type": "code",
   "execution_count": 20,
   "id": "b801b744",
   "metadata": {},
   "outputs": [
    {
     "name": "stdout",
     "output_type": "stream",
     "text": [
      "yello\n"
     ]
    }
   ],
   "source": [
    "my_string = \"hello\"\n",
    "# my_string[1] = 'a'  \n",
    "new_string = my_string.replace('h', 'y') \n",
    "print(new_string)"
   ]
  },
  {
   "cell_type": "code",
   "execution_count": 21,
   "id": "09cdb42f",
   "metadata": {},
   "outputs": [],
   "source": [
    "#What is __init__?Explain with an example."
   ]
  },
  {
   "cell_type": "markdown",
   "id": "c8884a55",
   "metadata": {},
   "source": [
    "__init__ is a special method (also known as a constructor) that is automatically called when a new instance of a class is created. The __init__ method is used to initialize the instance’s attributes and to perform any other setup operations that are required when an object is instantiated."
   ]
  },
  {
   "cell_type": "code",
   "execution_count": 23,
   "id": "fdd50524",
   "metadata": {},
   "outputs": [
    {
     "name": "stdout",
     "output_type": "stream",
     "text": [
      "Alice\n",
      "30\n",
      "Hello, my name is Alice and I am 30 years old.\n"
     ]
    }
   ],
   "source": [
    "class Person:\n",
    "    def __init__(self, name, age):\n",
    "        self.name = name \n",
    "        self.age = age \n",
    "\n",
    "    def greet(self):\n",
    "        print(f\"Hello, my name is {self.name} and I am {self.age} years old.\")\n",
    "\n",
    "person1 = Person(\"Alice\", 30)\n",
    "print(person1.name) \n",
    "print(person1.age)  \n",
    "person1.greet()  "
   ]
  },
  {
   "cell_type": "code",
   "execution_count": 24,
   "id": "f3f09818",
   "metadata": {},
   "outputs": [],
   "source": [
    "#What is docstring in Python?Explain with on example. "
   ]
  },
  {
   "cell_type": "markdown",
   "id": "7fe32c31",
   "metadata": {},
   "source": [
    "\n",
    "A docstring in Python is a special type of comment used to describe the purpose and behavior of a function, method, class, or module. Docstrings are written inside triple quotes (\"\"\" \"\"\" or ''' ''') and can span multiple lines. They are placed right after the definition of a function, method, class, or module."
   ]
  },
  {
   "cell_type": "code",
   "execution_count": 26,
   "id": "867ade71",
   "metadata": {},
   "outputs": [
    {
     "name": "stdout",
     "output_type": "stream",
     "text": [
      "\n",
      "    Add two numbers and return the result.\n",
      "\n",
      "    Parameters:\n",
      "    a (int or float): The first number.\n",
      "    b (int or float): The second number.\n",
      "\n",
      "    Returns:\n",
      "    int or float: The sum of the two numbers.\n",
      "    \n",
      "Help on function add in module __main__:\n",
      "\n",
      "add(a, b)\n",
      "    Add two numbers and return the result.\n",
      "    \n",
      "    Parameters:\n",
      "    a (int or float): The first number.\n",
      "    b (int or float): The second number.\n",
      "    \n",
      "    Returns:\n",
      "    int or float: The sum of the two numbers.\n",
      "\n"
     ]
    }
   ],
   "source": [
    "def add(a, b):\n",
    "    \"\"\"\n",
    "    Add two numbers and return the result.\n",
    "\n",
    "    Parameters:\n",
    "    a (int or float): The first number.\n",
    "    b (int or float): The second number.\n",
    "\n",
    "    Returns:\n",
    "    int or float: The sum of the two numbers.\n",
    "    \"\"\"\n",
    "    return a + b\n",
    "\n",
    "print(add.__doc__)\n",
    "help(add)"
   ]
  },
  {
   "cell_type": "code",
   "execution_count": 27,
   "id": "afc402b1",
   "metadata": {},
   "outputs": [],
   "source": [
    "#What are unit tests in Python?"
   ]
  },
  {
   "cell_type": "markdown",
   "id": "e743f781",
   "metadata": {},
   "source": [
    "Unit tests in Python are a way to test individual units of source code to ensure that they work as expected. A unit is the smallest testable part of any software, often a function, method, or class. Unit testing helps in verifying that each part of the program performs as designed."
   ]
  },
  {
   "cell_type": "code",
   "execution_count": 31,
   "id": "fd37b5df",
   "metadata": {},
   "outputs": [],
   "source": [
    "#What is break, continue and pass in Python ? "
   ]
  },
  {
   "cell_type": "markdown",
   "id": "38da491b",
   "metadata": {},
   "source": [
    "break Statement\n",
    "\n",
    "The break statement is used to exit a loop prematurely when a certain condition is met.\n",
    "Usage: It can be used in both for and while loops."
   ]
  },
  {
   "cell_type": "code",
   "execution_count": 33,
   "id": "6556d51e",
   "metadata": {},
   "outputs": [
    {
     "name": "stdout",
     "output_type": "stream",
     "text": [
      "0\n",
      "1\n",
      "2\n",
      "3\n",
      "4\n"
     ]
    }
   ],
   "source": [
    "for num in range(10):\n",
    "    if num == 5:\n",
    "        break  # Exit the loop when num is 5\n",
    "    print(num)"
   ]
  },
  {
   "cell_type": "markdown",
   "id": "4db91466",
   "metadata": {},
   "source": [
    "continue Statement\n",
    "\n",
    "The continue statement is used to skip the rest of the code inside the current loop iteration and move to the next iteration.\n",
    "Usage: It can be used in both for and while loops."
   ]
  },
  {
   "cell_type": "code",
   "execution_count": 34,
   "id": "842427cf",
   "metadata": {},
   "outputs": [
    {
     "name": "stdout",
     "output_type": "stream",
     "text": [
      "1\n",
      "3\n",
      "5\n",
      "7\n",
      "9\n"
     ]
    }
   ],
   "source": [
    "for num in range(10):\n",
    "    if num % 2 == 0:\n",
    "        continue  # Skip even numbers\n",
    "    print(num)"
   ]
  },
  {
   "cell_type": "markdown",
   "id": "abf4a874",
   "metadata": {},
   "source": [
    "pass Statement\n",
    "\n",
    "The pass statement is a null operation; it does nothing when executed. It is used as a placeholder in situations where a statement is syntactically required but no code needs to be executed.\n",
    "Usage: It can be used in loops, function definitions, class definitions, and conditional statements."
   ]
  },
  {
   "cell_type": "code",
   "execution_count": 35,
   "id": "e3328ec6",
   "metadata": {},
   "outputs": [],
   "source": [
    "for num in range(5):\n",
    "    pass  \n",
    "\n",
    "def function_placeholder():\n",
    "    pass  \n",
    "\n",
    "class ClassPlaceholder:\n",
    "    pass "
   ]
  },
  {
   "cell_type": "code",
   "execution_count": 36,
   "id": "ff4253d7",
   "metadata": {},
   "outputs": [],
   "source": [
    "#What is the use of self in Python?"
   ]
  },
  {
   "cell_type": "markdown",
   "id": "2599f315",
   "metadata": {},
   "source": [
    "self is a conventional name used within a class to refer to the instance of the class itself. It is used as the first parameter in instance methods to access attributes and methods of the instance."
   ]
  },
  {
   "cell_type": "code",
   "execution_count": 38,
   "id": "83cd8846",
   "metadata": {},
   "outputs": [
    {
     "name": "stdout",
     "output_type": "stream",
     "text": [
      "Alice\n",
      "30\n",
      "Hello, my name is Alice and I am 30 years old.\n"
     ]
    }
   ],
   "source": [
    "class Person:\n",
    "    def __init__(self, name, age):\n",
    "        self.name = name \n",
    "        self.age = age    \n",
    "\n",
    "    def greet(self):\n",
    "        return f\"Hello, my name is {self.name} and I am {self.age} years old.\"\n",
    "\n",
    "person1 = Person(\"Alice\", 30)\n",
    "print(person1.name)  \n",
    "print(person1.age)  \n",
    "print(person1.greet())  "
   ]
  },
  {
   "cell_type": "code",
   "execution_count": 39,
   "id": "5a579012",
   "metadata": {},
   "outputs": [],
   "source": [
    "#What ore global, protected and private attributes in Python? "
   ]
  },
  {
   "cell_type": "markdown",
   "id": "eb225b0a",
   "metadata": {},
   "source": [
    "Global \n",
    "\n",
    "The term \"global attribute\" usually refers to module-level variables, which are accessible from anywhere within the module. They are not bound to any specific instance or class."
   ]
  },
  {
   "cell_type": "code",
   "execution_count": 41,
   "id": "cd483cc1",
   "metadata": {},
   "outputs": [
    {
     "name": "stdout",
     "output_type": "stream",
     "text": [
      "I am a global variable\n"
     ]
    }
   ],
   "source": [
    "global_var = \"I am a global variable\"\n",
    "\n",
    "class MyClass:\n",
    "    def __init__(self):\n",
    "        pass\n",
    "\n",
    "    def access_global(self):\n",
    "        return global_var\n",
    "\n",
    "obj = MyClass()\n",
    "print(obj.access_global()) "
   ]
  },
  {
   "cell_type": "markdown",
   "id": "3d63cb9d",
   "metadata": {},
   "source": [
    "Protected \n",
    "\n",
    "Protected attributes are intended to be accessible only within the class itself and its subclasses. In Python, there is no strict enforcement of access control, but a convention is followed by prefixing the attribute name with a single underscore (_)."
   ]
  },
  {
   "cell_type": "code",
   "execution_count": 42,
   "id": "a44b0aee",
   "metadata": {},
   "outputs": [
    {
     "name": "stdout",
     "output_type": "stream",
     "text": [
      "I am a protected attribute\n"
     ]
    }
   ],
   "source": [
    "class ParentClass:\n",
    "    def __init__(self):\n",
    "        self._protected_attr = \"I am a protected attribute\"\n",
    "\n",
    "class ChildClass(ParentClass):\n",
    "    def access_protected(self):\n",
    "        return self._protected_attr\n",
    "\n",
    "obj = ChildClass()\n",
    "print(obj.access_protected()) "
   ]
  },
  {
   "cell_type": "markdown",
   "id": "0d837c37",
   "metadata": {},
   "source": [
    "Private\n",
    "\n",
    "\n",
    "Private attributes are intended to be accessible only within the class in which they are defined. In Python, private attributes are indicated by prefixing the attribute name with a double underscore (__). This triggers name mangling, which changes the attribute's name in a way that makes it harder to create subclasses that accidentally override the private attributes."
   ]
  },
  {
   "cell_type": "code",
   "execution_count": 43,
   "id": "33eb4090",
   "metadata": {},
   "outputs": [
    {
     "name": "stdout",
     "output_type": "stream",
     "text": [
      "I am a private attribute\n",
      "I am a private attribute\n"
     ]
    }
   ],
   "source": [
    "class MyClass:\n",
    "    def __init__(self):\n",
    "        self.__private_attr = \"I am a private attribute\"\n",
    "\n",
    "    def access_private(self):\n",
    "        return self.__private_attr\n",
    "\n",
    "obj = MyClass()\n",
    "print(obj.access_private()) \n",
    "print(obj._MyClass__private_attr)  "
   ]
  },
  {
   "cell_type": "code",
   "execution_count": 45,
   "id": "fc0fdb1c",
   "metadata": {},
   "outputs": [],
   "source": [
    "#What are modules and packages in Python?"
   ]
  },
  {
   "cell_type": "markdown",
   "id": "6f4b9cf6",
   "metadata": {},
   "source": [
    "Modules\n",
    "\n",
    "Definition: A module is a single file containing Python code (functions, classes, variables, etc.). It allows you to logically organize your Python code and reuse it across different programs.\n",
    "\n",
    "Creating a Module: Any Python file (.py) can be considered a module"
   ]
  },
  {
   "cell_type": "markdown",
   "id": "1da4f703",
   "metadata": {},
   "source": [
    "Packages\n",
    "A package is a collection of modules organized in a directory hierarchy. It allows for a more structured way of organizing and managing multiple modules. A package must contain a special file named __init__.py, which can be empty or can execute initialization code for the package.\n",
    "\n",
    "Creating a Package\n",
    "To create a package, you create a directory with a special __init__.py file and place modules inside that directory."
   ]
  },
  {
   "cell_type": "code",
   "execution_count": 47,
   "id": "bcbc4501",
   "metadata": {},
   "outputs": [],
   "source": [
    "#What are lists and tuples?What is the key difference between the two?"
   ]
  },
  {
   "cell_type": "markdown",
   "id": "1f699f2c",
   "metadata": {},
   "source": [
    "Lists\n",
    "\n",
    "Definition: A list is an ordered collection of items that are mutable, meaning the items (elements) can be changed after the list is created.\n",
    "\n",
    "Syntax: Lists are defined using square brackets []"
   ]
  },
  {
   "cell_type": "code",
   "execution_count": 48,
   "id": "118c8439",
   "metadata": {},
   "outputs": [
    {
     "name": "stdout",
     "output_type": "stream",
     "text": [
      "[1, 2, 3, 'apple', 5.5]\n",
      "[1, 'banana', 3, 'apple', 5.5]\n",
      "[1, 'banana', 3, 'apple', 5.5, 6]\n",
      "[1, 'banana', 3, 5.5, 6]\n"
     ]
    }
   ],
   "source": [
    "my_list = [1, 2, 3, \"apple\", 5.5]\n",
    "print(my_list) \n",
    "\n",
    "# Modifying elements\n",
    "my_list[1] = \"banana\"\n",
    "print(my_list) \n",
    "\n",
    "# Adding elements\n",
    "my_list.append(6)\n",
    "print(my_list) \n",
    "\n",
    "# Removing elements\n",
    "my_list.remove(\"apple\")\n",
    "print(my_list)  "
   ]
  },
  {
   "cell_type": "markdown",
   "id": "2da1bad5",
   "metadata": {},
   "source": [
    "Tuples\n",
    "\n",
    "Definition: A tuple is an ordered collection of items that are immutable, meaning the items (elements) cannot be changed after the tuple is created.\n",
    "\n",
    "Syntax: Tuples are defined using parentheses ()."
   ]
  },
  {
   "cell_type": "code",
   "execution_count": 50,
   "id": "feab8019",
   "metadata": {},
   "outputs": [
    {
     "name": "stdout",
     "output_type": "stream",
     "text": [
      "(1, 2, 3, 'apple', 5.5)\n",
      "2\n"
     ]
    }
   ],
   "source": [
    "my_tuple = (1, 2, 3, \"apple\", 5.5)\n",
    "print(my_tuple) \n",
    "print(my_tuple[1])  "
   ]
  },
  {
   "cell_type": "code",
   "execution_count": 52,
   "id": "72f8077b",
   "metadata": {},
   "outputs": [],
   "source": [
    "#What is an Interpreted lnguage & dynamically typed language?Write 5 differences between them. "
   ]
  },
  {
   "cell_type": "markdown",
   "id": "352342f4",
   "metadata": {},
   "source": [
    "Interpreted Language\n",
    "\n",
    "An interpreted language is a type of programming language for which most of its implementations execute instructions directly, without the need for prior compilation into machine-language instructions. Instead, an interpreter reads and executes the code line by line at runtime.\n",
    "\n",
    "Dynamically Typed Language\n",
    "\n",
    "A dynamically typed language is a programming language in which variable types are determined at runtime, rather than at compile-time. This means you don’t need to declare the type of a variable when you write your code; the interpreter infers the type based on the variable's value when it is assigned."
   ]
  },
  {
   "cell_type": "code",
   "execution_count": 54,
   "id": "d5508623",
   "metadata": {},
   "outputs": [],
   "source": [
    "#What ore Dict ond list comprehensions?"
   ]
  },
  {
   "cell_type": "markdown",
   "id": "c92f7cc4",
   "metadata": {},
   "source": [
    "List Comprehensions\n",
    "\n",
    "List comprehensions provide a concise way to create lists in Python. They consist of brackets containing an expression followed by a for clause, and optionally, if clauses. List comprehensions offer a more readable and efficient way to create lists compared to traditional loops."
   ]
  },
  {
   "cell_type": "markdown",
   "id": "94189a64",
   "metadata": {},
   "source": [
    "Syntax: [expression for item in iterable if condition]"
   ]
  },
  {
   "cell_type": "code",
   "execution_count": 56,
   "id": "3f6271f0",
   "metadata": {},
   "outputs": [
    {
     "name": "stdout",
     "output_type": "stream",
     "text": [
      "[0, 2, 4, 6, 8]\n"
     ]
    }
   ],
   "source": [
    "evens = [x for x in range(10) if x % 2 == 0]\n",
    "print(evens) "
   ]
  },
  {
   "cell_type": "markdown",
   "id": "8826f55c",
   "metadata": {},
   "source": [
    "Dictionary Comprehensions\n",
    "\n",
    "Dictionary comprehensions are similar to list comprehensions but are used to create dictionaries. They consist of curly braces containing an expression followed by a for clause, and optionally, if clauses."
   ]
  },
  {
   "cell_type": "markdown",
   "id": "da88a1d0",
   "metadata": {},
   "source": [
    "Syntax: {key_expression: value_expression for item in iterable if condition}"
   ]
  },
  {
   "cell_type": "code",
   "execution_count": 57,
   "id": "65ba0b25",
   "metadata": {},
   "outputs": [
    {
     "name": "stdout",
     "output_type": "stream",
     "text": [
      "{0: 0, 1: 1, 2: 4, 3: 9, 4: 16, 5: 25, 6: 36, 7: 49, 8: 64, 9: 81}\n"
     ]
    }
   ],
   "source": [
    "squares_dict = {x: x**2 for x in range(10)}\n",
    "print(squares_dict)  "
   ]
  },
  {
   "cell_type": "code",
   "execution_count": 58,
   "id": "4262acda",
   "metadata": {},
   "outputs": [],
   "source": [
    "#What are decorators in Python? Explain it with an example.Write down its use cases. "
   ]
  },
  {
   "cell_type": "markdown",
   "id": "f9a9c367",
   "metadata": {},
   "source": [
    "Decorators are a powerful and expressive tool in Python that allow you to modify the behavior of a function or class method. They are functions that wrap another function or method, modifying its behavior."
   ]
  },
  {
   "cell_type": "code",
   "execution_count": 59,
   "id": "f536d088",
   "metadata": {},
   "outputs": [
    {
     "name": "stdout",
     "output_type": "stream",
     "text": [
      "Something is happening before the function is called.\n",
      "Hello!\n",
      "Something is happening after the function is called.\n"
     ]
    }
   ],
   "source": [
    "def my_decorator(func):\n",
    "    def wrapper():\n",
    "        print(\"Something is happening before the function is called.\")\n",
    "        func()\n",
    "        print(\"Something is happening after the function is called.\")\n",
    "    return wrapper\n",
    "\n",
    "@my_decorator\n",
    "def say_hello():\n",
    "    print(\"Hello!\")\n",
    "\n",
    "say_hello()"
   ]
  },
  {
   "cell_type": "markdown",
   "id": "df5042ab",
   "metadata": {},
   "source": [
    "Use Cases for Decorators\n",
    "\n",
    "Logging: Adding logging to functions to track their usage and output.\n",
    "\n",
    "Authorization: Checking if a user has permission to perform an action.\n",
    "\n",
    "Memoization: Caching the results of expensive function calls to improve performance.\n",
    "\n",
    "Timing: Measuring the time a function takes to execute."
   ]
  },
  {
   "cell_type": "code",
   "execution_count": 60,
   "id": "ac61639b",
   "metadata": {},
   "outputs": [],
   "source": [
    "#How is memory managed in Python?"
   ]
  },
  {
   "cell_type": "markdown",
   "id": "3378b385",
   "metadata": {},
   "source": [
    "Memory management in Python involves several mechanisms that work together to efficiently manage the allocation, use, and deallocation of memory. The key components and techniques include reference counting, garbage collection, memory pools, and the Global Interpreter Lock (GIL)."
   ]
  },
  {
   "cell_type": "markdown",
   "id": "28784702",
   "metadata": {},
   "source": [
    "Reference Counting:\n",
    "\n",
    "Keeps track of the number of references to each object.\n",
    "\n",
    "When an object's reference count drops to zero, it's deallocated."
   ]
  },
  {
   "cell_type": "code",
   "execution_count": 62,
   "id": "c779416b",
   "metadata": {},
   "outputs": [
    {
     "name": "stdout",
     "output_type": "stream",
     "text": [
      "2\n"
     ]
    }
   ],
   "source": [
    "import sys\n",
    "a = []\n",
    "print(sys.getrefcount(a))  "
   ]
  },
  {
   "cell_type": "markdown",
   "id": "d9901656",
   "metadata": {},
   "source": [
    "Garbage Collection:\n",
    "\n",
    "Handles cyclic references (objects referring to each other) that reference counting can't resolve.\n",
    "\n",
    "Uses the gc module to detect and collect cycles."
   ]
  },
  {
   "cell_type": "code",
   "execution_count": 63,
   "id": "35652d1e",
   "metadata": {},
   "outputs": [
    {
     "data": {
      "text/plain": [
       "572"
      ]
     },
     "execution_count": 63,
     "metadata": {},
     "output_type": "execute_result"
    }
   ],
   "source": [
    "import gc\n",
    "gc.collect() "
   ]
  },
  {
   "cell_type": "markdown",
   "id": "f8f5b8db",
   "metadata": {},
   "source": [
    "Memory Pools:\n",
    "\n",
    "Python uses a private heap for memory management.\n",
    "Small objects (less than 512 bytes) are allocated from memory pools to reduce fragmentation and improve performance."
   ]
  },
  {
   "cell_type": "markdown",
   "id": "5cee0145",
   "metadata": {},
   "source": [
    "Global Interpreter Lock (GIL):\n",
    "\n",
    "A mutex that allows only one thread to execute Python bytecode at a time.\n",
    "\n",
    "Ensures thread safety in memory management but limits multi-threaded performance."
   ]
  },
  {
   "cell_type": "code",
   "execution_count": 65,
   "id": "ea0e4865",
   "metadata": {},
   "outputs": [],
   "source": [
    "#What is lambda in Python? Why is it used?"
   ]
  },
  {
   "cell_type": "markdown",
   "id": "9f745260",
   "metadata": {},
   "source": [
    "A lambda in Python is an anonymous function, meaning it is a function without a name. It is defined using the lambda keyword and can have any number of arguments but only one expression. The expression is evaluated and returned when the lambda function is called."
   ]
  },
  {
   "cell_type": "markdown",
   "id": "571f5481",
   "metadata": {},
   "source": [
    "Syntax: lambda arguments: expression"
   ]
  },
  {
   "cell_type": "code",
   "execution_count": 66,
   "id": "a1b50798",
   "metadata": {},
   "outputs": [
    {
     "name": "stdout",
     "output_type": "stream",
     "text": [
      "15\n",
      "6\n"
     ]
    }
   ],
   "source": [
    "# A simple lambda function that adds 10 to the input\n",
    "add_ten = lambda x: x + 10\n",
    "print(add_ten(5))  \n",
    "\n",
    "# A lambda function that multiplies two numbers\n",
    "multiply = lambda x, y: x * y\n",
    "print(multiply(2, 3)) "
   ]
  },
  {
   "cell_type": "markdown",
   "id": "b6d0fde4",
   "metadata": {},
   "source": [
    "\n",
    "Why is Lambda Used?\n",
    "\n",
    "\n",
    "Conciseness:\n",
    "\n",
    "Lambdas are often used for short functions that are not reused elsewhere, making code more concise and readable.\n",
    "\n",
    "\n",
    "Functional Programming:\n",
    "\n",
    "Lambdas are commonly used in functional programming paradigms, such as when working with functions like map(), filter(), and reduce().\n",
    "Higher-Order Functions:"
   ]
  },
  {
   "cell_type": "code",
   "execution_count": 68,
   "id": "93160f51",
   "metadata": {},
   "outputs": [],
   "source": [
    "#Explain split() and join() functions in Python?"
   ]
  },
  {
   "cell_type": "markdown",
   "id": "e3472677",
   "metadata": {},
   "source": [
    "The split() function in Python is used to break a string into a list of substrings based on a specified delimiter (separator). If no delimiter is specified, the function splits the string by whitespace by default."
   ]
  },
  {
   "cell_type": "code",
   "execution_count": 69,
   "id": "5a9c278c",
   "metadata": {},
   "outputs": [
    {
     "name": "stdout",
     "output_type": "stream",
     "text": [
      "['Hello', 'World']\n"
     ]
    }
   ],
   "source": [
    "text = \"Hello World\"\n",
    "words = text.split()\n",
    "print(words) "
   ]
  },
  {
   "cell_type": "markdown",
   "id": "98330a95",
   "metadata": {},
   "source": [
    "join() Function\n",
    "\n",
    "The join() function in Python is used to concatenate (join) the elements of a list or any iterable into a single string, with a specified string inserted between each element."
   ]
  },
  {
   "cell_type": "code",
   "execution_count": 70,
   "id": "58959a2e",
   "metadata": {},
   "outputs": [
    {
     "name": "stdout",
     "output_type": "stream",
     "text": [
      "Hello World\n"
     ]
    }
   ],
   "source": [
    "words = ['Hello', 'World']\n",
    "sentence = ' '.join(words)\n",
    "print(sentence) "
   ]
  },
  {
   "cell_type": "code",
   "execution_count": 71,
   "id": "9ee30e95",
   "metadata": {},
   "outputs": [],
   "source": [
    "#What are iterators, iterable & generators in Python?"
   ]
  },
  {
   "cell_type": "markdown",
   "id": "5cbaafdb",
   "metadata": {},
   "source": [
    "Iterables\n",
    "\n",
    "An iterable is any Python object capable of returning its members one at a time, permitting it to be iterated over in a for loop. Examples of iterables include lists, tuples, strings, dictionaries, and sets."
   ]
  },
  {
   "cell_type": "code",
   "execution_count": 72,
   "id": "98a4da37",
   "metadata": {},
   "outputs": [
    {
     "name": "stdout",
     "output_type": "stream",
     "text": [
      "1\n",
      "2\n",
      "3\n",
      "4\n",
      "H\n",
      "e\n",
      "l\n",
      "l\n",
      "o\n"
     ]
    }
   ],
   "source": [
    "# List (iterable)\n",
    "numbers = [1, 2, 3, 4]\n",
    "\n",
    "# String (iterable)\n",
    "text = \"Hello\"\n",
    "\n",
    "# Iterate over a list\n",
    "for num in numbers:\n",
    "    print(num)  # Output: 1 2 3 4\n",
    "\n",
    "# Iterate over a string\n",
    "for char in text:\n",
    "    print(char) "
   ]
  },
  {
   "cell_type": "markdown",
   "id": "54d328c6",
   "metadata": {},
   "source": [
    "Iterators\n",
    "\n",
    "\n",
    "An iterator is an object representing a stream of data; it returns the data one element at a time. Iterators have two essential methods: __iter__() and __next__().\n",
    "\n",
    "__iter__(): Returns the iterator object itself.\n",
    "__next__(): Returns the next value from the stream. If there are no further items, it raises a StopIteration exception."
   ]
  },
  {
   "cell_type": "code",
   "execution_count": 73,
   "id": "c737d116",
   "metadata": {},
   "outputs": [
    {
     "name": "stdout",
     "output_type": "stream",
     "text": [
      "1\n",
      "2\n",
      "3\n",
      "4\n"
     ]
    }
   ],
   "source": [
    "# Creating an iterator from an iterable (list)\n",
    "numbers = [1, 2, 3, 4]\n",
    "numbers_iterator = iter(numbers)\n",
    "\n",
    "print(next(numbers_iterator))  \n",
    "print(next(numbers_iterator))  \n",
    "print(next(numbers_iterator)) \n",
    "print(next(numbers_iterator))  "
   ]
  },
  {
   "cell_type": "markdown",
   "id": "65fd466a",
   "metadata": {},
   "source": [
    "Generators\n",
    "\n",
    "A generator is a special type of iterator created using a function that employs the yield keyword to yield elements one at a time. Generators provide a concise way to create iterators without needing to define the __iter__() and __next__() methods."
   ]
  },
  {
   "cell_type": "code",
   "execution_count": 75,
   "id": "15a7315e",
   "metadata": {},
   "outputs": [
    {
     "name": "stdout",
     "output_type": "stream",
     "text": [
      "1\n",
      "2\n",
      "3\n",
      "4\n",
      "5\n"
     ]
    }
   ],
   "source": [
    "def count_up_to(max):\n",
    "    count = 1\n",
    "    while count <= max:\n",
    "        yield count\n",
    "        count += 1\n",
    "\n",
    "# Using the generator\n",
    "counter = count_up_to(5)\n",
    "print(next(counter)) \n",
    "print(next(counter))  \n",
    "print(next(counter))  \n",
    "print(next(counter))  \n",
    "print(next(counter)) "
   ]
  },
  {
   "cell_type": "code",
   "execution_count": 76,
   "id": "f67998d7",
   "metadata": {},
   "outputs": [],
   "source": [
    "#What is the difference between xrange and range in Python? "
   ]
  },
  {
   "cell_type": "markdown",
   "id": "b6abbe0d",
   "metadata": {},
   "source": [
    "range:\n",
    "    \n",
    "range in Python 3 returns a range object, which is an immutable sequence type.\n",
    "It doesn’t generate the whole list at once but provides the numbers as needed, similar to xrange in Python 2."
   ]
  },
  {
   "cell_type": "code",
   "execution_count": 77,
   "id": "5c87700a",
   "metadata": {},
   "outputs": [
    {
     "name": "stdout",
     "output_type": "stream",
     "text": [
      "range(1, 10)\n",
      "[1, 2, 3, 4, 5, 6, 7, 8, 9]\n"
     ]
    }
   ],
   "source": [
    "# Python 3 range\n",
    "numbers = range(1, 10)\n",
    "print(numbers)  # Output: range(1, 10)\n",
    "print(list(numbers))  # Output: [1, 2, 3, 4, 5, 6, 7, 8, 9]\n"
   ]
  },
  {
   "cell_type": "markdown",
   "id": "8f085bd9",
   "metadata": {},
   "source": [
    "xrange in Python 2\n",
    "\n",
    "xrange returns an xrange object, which generates the numbers on demand (one at a time) and is more memory efficient.\n",
    "It is an iterator and thus doesn’t create the entire list in memory."
   ]
  },
  {
   "cell_type": "code",
   "execution_count": 1,
   "id": "cfd27e2c",
   "metadata": {},
   "outputs": [
    {
     "ename": "NameError",
     "evalue": "name 'xrange' is not defined",
     "output_type": "error",
     "traceback": [
      "\u001b[1;31m---------------------------------------------------------------------------\u001b[0m",
      "\u001b[1;31mNameError\u001b[0m                                 Traceback (most recent call last)",
      "Cell \u001b[1;32mIn[1], line 2\u001b[0m\n\u001b[0;32m      1\u001b[0m \u001b[38;5;66;03m#Python 2 xrange\u001b[39;00m\n\u001b[1;32m----> 2\u001b[0m numbers \u001b[38;5;241m=\u001b[39m \u001b[43mxrange\u001b[49m(\u001b[38;5;241m1\u001b[39m, \u001b[38;5;241m10\u001b[39m)\n\u001b[0;32m      3\u001b[0m \u001b[38;5;28mprint\u001b[39m(numbers)\n\u001b[0;32m      4\u001b[0m \u001b[38;5;28mprint\u001b[39m(\u001b[38;5;28mlist\u001b[39m(numbers))\n",
      "\u001b[1;31mNameError\u001b[0m: name 'xrange' is not defined"
     ]
    }
   ],
   "source": [
    "#Python 2 xrange\n",
    "numbers = xrange(1, 10)\n",
    "print(numbers)\n",
    "print(list(numbers))  "
   ]
  },
  {
   "cell_type": "markdown",
   "id": "4957675d",
   "metadata": {},
   "source": [
    "Why Error?xrange was removed in Python 3.x and replaced with the range function."
   ]
  },
  {
   "cell_type": "code",
   "execution_count": null,
   "id": "b6827809",
   "metadata": {},
   "outputs": [],
   "source": [
    "#Pillars of Oops."
   ]
  },
  {
   "cell_type": "markdown",
   "id": "b098cb8c",
   "metadata": {},
   "source": [
    "Object-Oriented Programming (OOP) is a programming paradigm that uses objects and classes to structure software. Python supports OOP and includes four main pillars:"
   ]
  },
  {
   "cell_type": "markdown",
   "id": "f399805b",
   "metadata": {},
   "source": [
    "1.Encapsulation:\n",
    "    \n",
    "Encapsulation is the concept of bundling data and methods that operate on the data into a single unit, or class. It restricts direct access to some of an object's components, which can prevent the accidental modification of data.\n"
   ]
  },
  {
   "cell_type": "code",
   "execution_count": 3,
   "id": "02e7565e",
   "metadata": {},
   "outputs": [
    {
     "name": "stdout",
     "output_type": "stream",
     "text": [
      "2020 Toyota Corolla\n"
     ]
    }
   ],
   "source": [
    "class Car:\n",
    "    def __init__(self, make, model, year):\n",
    "        self.__make = make\n",
    "        self.__model = model\n",
    "        self.__year = year\n",
    "\n",
    "    def get_info(self):\n",
    "        return f\"{self.__year} {self.__make} {self.__model}\"\n",
    "\n",
    "my_car = Car(\"Toyota\", \"Corolla\", 2020)\n",
    "print(my_car.get_info())  "
   ]
  },
  {
   "cell_type": "markdown",
   "id": "8d085e9c",
   "metadata": {},
   "source": [
    "2.Abstraction:\n",
    "\n",
    "Abstraction means hiding the complex implementation details and showing only the essential features of the object. It reduces complexity by allowing the user to interact with an object at a high level."
   ]
  },
  {
   "cell_type": "code",
   "execution_count": 4,
   "id": "eec6572d",
   "metadata": {},
   "outputs": [
    {
     "name": "stdout",
     "output_type": "stream",
     "text": [
      "78.5\n"
     ]
    }
   ],
   "source": [
    "from abc import ABC, abstractmethod\n",
    "\n",
    "class Shape(ABC):\n",
    "    @abstractmethod\n",
    "    def area(self):\n",
    "        pass\n",
    "\n",
    "class Circle(Shape):\n",
    "    def __init__(self, radius):\n",
    "        self.radius = radius\n",
    "\n",
    "    def area(self):\n",
    "        return 3.14 * self.radius * self.radius\n",
    "\n",
    "my_circle = Circle(5)\n",
    "print(my_circle.area())"
   ]
  },
  {
   "cell_type": "markdown",
   "id": "79143140",
   "metadata": {},
   "source": [
    "3.Inheritance:\n",
    "\n",
    "Inheritance is a mechanism where a new class (derived class) inherits the properties and behaviors (methods) of another class (base class). It provides a way to reuse code and create a hierarchical relationship between classes."
   ]
  },
  {
   "cell_type": "code",
   "execution_count": 7,
   "id": "873e156a",
   "metadata": {},
   "outputs": [
    {
     "name": "stdout",
     "output_type": "stream",
     "text": [
      "Buddy says Woof!\n"
     ]
    }
   ],
   "source": [
    "class Animal:\n",
    "    def __init__(self, name):\n",
    "        self.name = name\n",
    "\n",
    "    def speak(self):\n",
    "        pass\n",
    "\n",
    "class Dog(Animal):\n",
    "    def speak(self):\n",
    "        return f\"{self.name} says Woof!\"\n",
    "\n",
    "dog = Dog('Buddy')\n",
    "print(dog.speak())"
   ]
  },
  {
   "cell_type": "markdown",
   "id": "eb468b3d",
   "metadata": {},
   "source": [
    "4.Polymorphism:\n",
    "\n",
    "Polymorphism allows objects of different classes to be treated as objects of a common superclass. It provides a way to perform a single action in different forms."
   ]
  },
  {
   "cell_type": "code",
   "execution_count": 9,
   "id": "fe253ca5",
   "metadata": {},
   "outputs": [
    {
     "name": "stdout",
     "output_type": "stream",
     "text": [
      "Flying high!\n",
      "Flying at medium height!\n",
      "Cannot fly!\n"
     ]
    }
   ],
   "source": [
    "class Bird:\n",
    "    def fly(self):\n",
    "        return \"Flying high!\"\n",
    "\n",
    "class Sparrow(Bird):\n",
    "    def fly(self):\n",
    "        return \"Flying at medium height!\"\n",
    "\n",
    "class Penguin(Bird):\n",
    "    def fly(self):\n",
    "        return \"Cannot fly!\"\n",
    "\n",
    "birds = [Bird(), Sparrow(), Penguin()]\n",
    "\n",
    "for bird in birds:\n",
    "    print(bird.fly())"
   ]
  },
  {
   "cell_type": "code",
   "execution_count": 12,
   "id": "b0614776",
   "metadata": {},
   "outputs": [],
   "source": [
    "#How will you check if a class is a child of another class?"
   ]
  },
  {
   "cell_type": "markdown",
   "id": "b23bed1e",
   "metadata": {},
   "source": [
    "There are two method:\n",
    "\n",
    "1:issubclass()\n",
    "\n",
    "2:isinstance()"
   ]
  },
  {
   "cell_type": "markdown",
   "id": "4c7a894d",
   "metadata": {},
   "source": [
    "Using issubclass()\n",
    "\n",
    "The issubclass() function checks if a class is a derived class of another class. It returns True if the first argument is a subclass of the second argument, otherwise it returns False."
   ]
  },
  {
   "cell_type": "code",
   "execution_count": 13,
   "id": "9fff9a20",
   "metadata": {},
   "outputs": [
    {
     "name": "stdout",
     "output_type": "stream",
     "text": [
      "True\n",
      "False\n"
     ]
    }
   ],
   "source": [
    "class Animal:\n",
    "    pass\n",
    "\n",
    "class Dog(Animal):\n",
    "    pass\n",
    "\n",
    "print(issubclass(Dog, Animal)) \n",
    "print(issubclass(Animal, Dog))  "
   ]
  },
  {
   "cell_type": "markdown",
   "id": "9b5901e3",
   "metadata": {},
   "source": [
    "Using isinstance()\n",
    "\n",
    "The isinstance() function checks if an object is an instance of a class or a tuple of classes. It returns True if the object is an instance of the class or one of the classes in the tuple, otherwise it returns False."
   ]
  },
  {
   "cell_type": "code",
   "execution_count": 15,
   "id": "bfbee21d",
   "metadata": {},
   "outputs": [
    {
     "name": "stdout",
     "output_type": "stream",
     "text": [
      "True\n",
      "True\n",
      "True\n"
     ]
    }
   ],
   "source": [
    "class Animal:\n",
    "    pass\n",
    "\n",
    "class Dog(Animal):\n",
    "    pass\n",
    "\n",
    "dog = Dog()\n",
    "print(isinstance(dog, Animal)) \n",
    "print(isinstance(dog, Dog))     \n",
    "print(isinstance(dog, object))  "
   ]
  },
  {
   "cell_type": "code",
   "execution_count": null,
   "id": "5484f3b7",
   "metadata": {},
   "outputs": [],
   "source": [
    "#How does inheritance work in python? Explai n all types of inheritance with an example. "
   ]
  },
  {
   "cell_type": "markdown",
   "id": "2d34e7a3",
   "metadata": {},
   "source": [
    "Inheritance in Python allows a class (known as the child class) to inherit attributes and methods from another class (known as the parent class). This promotes code reusability and establishes a relationship between classes.\n",
    "\n",
    "There are several types of inheritance in Python:\n",
    "\n",
    "1.Single Inheritance\n",
    "\n",
    "2.Multiple Inheritance\n",
    "\n",
    "3.Multilevel Inheritance\n",
    "\n",
    "4.Hierarchical Inheritance\n",
    "\n",
    "5.Hybrid Inheritance"
   ]
  },
  {
   "cell_type": "markdown",
   "id": "57b9c3f3",
   "metadata": {},
   "source": [
    "1. Single Inheritance\n",
    "\n",
    "In single inheritance, a child class inherits from only one parent class."
   ]
  },
  {
   "cell_type": "code",
   "execution_count": 17,
   "id": "2c7deaf5",
   "metadata": {},
   "outputs": [
    {
     "name": "stdout",
     "output_type": "stream",
     "text": [
      "Animal speaks\n",
      "Dog barks\n"
     ]
    }
   ],
   "source": [
    "class Animal:\n",
    "    def speak(self):\n",
    "        return \"Animal speaks\"\n",
    "\n",
    "class Dog(Animal):\n",
    "    def bark(self):\n",
    "        return \"Dog barks\"\n",
    "\n",
    "dog = Dog()\n",
    "print(dog.speak())  \n",
    "print(dog.bark())  "
   ]
  },
  {
   "cell_type": "markdown",
   "id": "41788152",
   "metadata": {},
   "source": [
    "2. Multiple Inheritance\n",
    "\n",
    "In multiple inheritance, a child class can inherit from more than one parent class."
   ]
  },
  {
   "cell_type": "code",
   "execution_count": 18,
   "id": "65caf731",
   "metadata": {},
   "outputs": [
    {
     "name": "stdout",
     "output_type": "stream",
     "text": [
      "Animal speaks\n",
      "Mammal has fur\n",
      "Dog barks\n"
     ]
    }
   ],
   "source": [
    "class Animal:\n",
    "    def speak(self):\n",
    "        return \"Animal speaks\"\n",
    "\n",
    "class Mammal:\n",
    "    def has_fur(self):\n",
    "        return \"Mammal has fur\"\n",
    "\n",
    "class Dog(Animal, Mammal):\n",
    "    def bark(self):\n",
    "        return \"Dog barks\"\n",
    "\n",
    "dog = Dog()\n",
    "print(dog.speak())  \n",
    "print(dog.has_fur()) \n",
    "print(dog.bark())   "
   ]
  },
  {
   "cell_type": "markdown",
   "id": "66ecddb0",
   "metadata": {},
   "source": [
    "3. Multilevel Inheritance\n",
    "\n",
    "In multilevel inheritance, a child class inherits from another child class, creating a chain of inheritance."
   ]
  },
  {
   "cell_type": "code",
   "execution_count": 19,
   "id": "57bfbfe5",
   "metadata": {},
   "outputs": [
    {
     "name": "stdout",
     "output_type": "stream",
     "text": [
      "Animal speaks\n",
      "Mammal has fur\n",
      "Dog barks\n"
     ]
    }
   ],
   "source": [
    "class Animal:\n",
    "    def speak(self):\n",
    "        return \"Animal speaks\"\n",
    "\n",
    "class Mammal(Animal):\n",
    "    def has_fur(self):\n",
    "        return \"Mammal has fur\"\n",
    "\n",
    "class Dog(Mammal):\n",
    "    def bark(self):\n",
    "        return \"Dog barks\"\n",
    "\n",
    "dog = Dog()\n",
    "print(dog.speak()) \n",
    "print(dog.has_fur())  \n",
    "print(dog.bark())   "
   ]
  },
  {
   "cell_type": "markdown",
   "id": "33542954",
   "metadata": {},
   "source": [
    "4. Hierarchical Inheritance\n",
    "\n",
    "In hierarchical inheritance, multiple child classes inherit from a single parent class."
   ]
  },
  {
   "cell_type": "code",
   "execution_count": 20,
   "id": "29d6eeb1",
   "metadata": {},
   "outputs": [
    {
     "name": "stdout",
     "output_type": "stream",
     "text": [
      "Animal speaks\n",
      "Dog barks\n",
      "Animal speaks\n",
      "Cat meows\n"
     ]
    }
   ],
   "source": [
    "class Animal:\n",
    "    def speak(self):\n",
    "        return \"Animal speaks\"\n",
    "\n",
    "class Dog(Animal):\n",
    "    def bark(self):\n",
    "        return \"Dog barks\"\n",
    "\n",
    "class Cat(Animal):\n",
    "    def meow(self):\n",
    "        return \"Cat meows\"\n",
    "\n",
    "dog = Dog()\n",
    "cat = Cat()\n",
    "print(dog.speak())  \n",
    "print(dog.bark())   \n",
    "print(cat.speak())  \n",
    "print(cat.meow())   "
   ]
  },
  {
   "cell_type": "markdown",
   "id": "7f02006e",
   "metadata": {},
   "source": [
    "5. Hybrid Inheritance\n",
    "\n",
    "Hybrid inheritance is a combination of two or more types of inheritance. It's a bit more complex and can involve multiple inheritance structures."
   ]
  },
  {
   "cell_type": "code",
   "execution_count": 21,
   "id": "fd7cee9b",
   "metadata": {},
   "outputs": [
    {
     "name": "stdout",
     "output_type": "stream",
     "text": [
      "Animal speaks\n",
      "Mammal has fur\n",
      "Bird has feathers\n",
      "Bat flies\n"
     ]
    }
   ],
   "source": [
    "class Animal:\n",
    "    def speak(self):\n",
    "        return \"Animal speaks\"\n",
    "\n",
    "class Mammal(Animal):\n",
    "    def has_fur(self):\n",
    "        return \"Mammal has fur\"\n",
    "\n",
    "class Bird(Animal):\n",
    "    def has_feathers(self):\n",
    "        return \"Bird has feathers\"\n",
    "\n",
    "class Bat(Mammal, Bird):\n",
    "    def fly(self):\n",
    "        return \"Bat flies\"\n",
    "\n",
    "bat = Bat()\n",
    "print(bat.speak())    \n",
    "print(bat.has_fur())     \n",
    "print(bat.has_feathers())  \n",
    "print(bat.fly())  "
   ]
  },
  {
   "cell_type": "code",
   "execution_count": 22,
   "id": "29c6e0a4",
   "metadata": {},
   "outputs": [],
   "source": [
    "#What is encapsulation? Explain it with an example."
   ]
  },
  {
   "cell_type": "markdown",
   "id": "79a01fb5",
   "metadata": {},
   "source": [
    "Encapsulation is an OOP principle where data (attributes) and methods (functions) are bundled into a single unit (class), and access to the internal state of the object is restricted to protect the data from unintended modification. This is typically achieved using private attributes and public methods to control access."
   ]
  },
  {
   "cell_type": "code",
   "execution_count": 23,
   "id": "5636be9e",
   "metadata": {},
   "outputs": [
    {
     "name": "stdout",
     "output_type": "stream",
     "text": [
      "1200\n"
     ]
    }
   ],
   "source": [
    "class BankAccount:\n",
    "    def __init__(self, owner, balance):\n",
    "        self.owner = owner\n",
    "        self.__balance = balance  \n",
    "\n",
    "    def deposit(self, amount):\n",
    "        if amount > 0:\n",
    "            self.__balance += amount\n",
    "\n",
    "    def withdraw(self, amount):\n",
    "        if 0 < amount <= self.__balance:\n",
    "            self.__balance -= amount\n",
    "\n",
    "    def get_balance(self):\n",
    "        return self.__balance\n",
    "\n",
    "    def set_balance(self, balance):\n",
    "        if balance >= 0:\n",
    "            self.__balance = balance\n",
    "\n",
    "account = BankAccount(\"Alice\", 1000)\n",
    "account.deposit(500)\n",
    "account.withdraw(300)\n",
    "print(account.get_balance())  "
   ]
  },
  {
   "cell_type": "code",
   "execution_count": 24,
   "id": "ef977180",
   "metadata": {},
   "outputs": [],
   "source": [
    "#What is polymorphism? Explain it with an example."
   ]
  },
  {
   "cell_type": "markdown",
   "id": "0efa1925",
   "metadata": {},
   "source": [
    "Polymorphism allows methods to have the same name but behave differently based on the object calling them, enabling a unified interface for different data types."
   ]
  },
  {
   "cell_type": "code",
   "execution_count": 26,
   "id": "698cca4e",
   "metadata": {},
   "outputs": [
    {
     "name": "stdout",
     "output_type": "stream",
     "text": [
      "The area is: 78.5\n",
      "The area is: 24\n"
     ]
    }
   ],
   "source": [
    "class Shape:\n",
    "    def area(self):\n",
    "        pass\n",
    "\n",
    "class Circle(Shape):\n",
    "    def __init__(self, radius):\n",
    "        self.radius = radius\n",
    "\n",
    "    def area(self):\n",
    "        return 3.14 * self.radius * self.radius\n",
    "\n",
    "class Rectangle(Shape):\n",
    "    def __init__(self, width, height):\n",
    "        self.width = width\n",
    "        self.height = height\n",
    "\n",
    "    def area(self):\n",
    "        return self.width * self.height\n",
    "\n",
    "def print_area(shape):\n",
    "    print(f\"The area is: {shape.area()}\")\n",
    "\n",
    "circle = Circle(5)\n",
    "rectangle = Rectangle(4, 6)\n",
    "\n",
    "print_area(circle)     \n",
    "print_area(rectangle)   "
   ]
  },
  {
   "cell_type": "markdown",
   "id": "5fc5663b",
   "metadata": {},
   "source": [
    "# Question 1. 2. Which of the following identifier names are invalid and why?"
   ]
  },
  {
   "cell_type": "markdown",
   "id": "9f3d2f60",
   "metadata": {},
   "source": [
    "a)\tSeria l _no.\n",
    "\n",
    "b)\tlst_Room\n",
    "\n",
    "c)\tHundred$\n",
    "\n",
    "d)\tTota l _Ma rk s\n",
    "\n",
    "e)\tto ta l - Ma rks\n",
    "\n",
    "f)\tTotal Marks\n",
    "\n",
    "g)\tTrue\n",
    "\n",
    "h)\t) _Percen tag\n"
   ]
  },
  {
   "cell_type": "markdown",
   "id": "04a6658c",
   "metadata": {},
   "source": [
    "Hundred$\n",
    "\n",
    "Invalid: The dollar sign ($) is not allowed in Python identifiers. Identifiers can only include letters, digits (but not at the start), and underscores."
   ]
  },
  {
   "cell_type": "markdown",
   "id": "b7200b9d",
   "metadata": {},
   "source": [
    "total - Marks\n",
    "\n",
    "Invalid: The hyphen (-) is not allowed in Python identifiers. Identifiers cannot contain special characters like hyphens."
   ]
  },
  {
   "cell_type": "markdown",
   "id": "c28e21c1",
   "metadata": {},
   "source": [
    "Total Marks\n",
    "\n",
    "Invalid: Spaces are not allowed in Python identifiers. Identifiers must be continuous without spaces."
   ]
  },
  {
   "cell_type": "markdown",
   "id": "da7c6103",
   "metadata": {},
   "source": [
    "True\n",
    "\n",
    "Invalid: True is a reserved keyword in Python. Reserved keywords cannot be used as identifiers."
   ]
  },
  {
   "cell_type": "markdown",
   "id": "1e32c3f2",
   "metadata": {},
   "source": [
    ")_Percentage\n",
    "\n",
    "Invalid: The parentheses ()) are not allowed in Python identifiers. Identifiers cannot start with or include special characters like parentheses."
   ]
  },
  {
   "cell_type": "markdown",
   "id": "5591411b",
   "metadata": {},
   "source": [
    "# Question 1.3."
   ]
  },
  {
   "cell_type": "markdown",
   "id": "bbdbb249",
   "metadata": {},
   "source": [
    "name = [\"Mohan\", \"dash\", \"karan\", \"chandra\",\"gandhi\",\"Bapu\"] do the following operations in this list;"
   ]
  },
  {
   "cell_type": "code",
   "execution_count": 29,
   "id": "096db139",
   "metadata": {},
   "outputs": [],
   "source": [
    "#a)odd an elem ent \"freedom _fighter\" in this list at the 0th index."
   ]
  },
  {
   "cell_type": "code",
   "execution_count": 30,
   "id": "11bc970e",
   "metadata": {},
   "outputs": [
    {
     "name": "stdout",
     "output_type": "stream",
     "text": [
      "['freedom_fighter', 'Mohan', 'dash', 'karan', 'chandra', 'gandhi', 'Bapu']\n"
     ]
    }
   ],
   "source": [
    "# Original list\n",
    "name = [\"Mohan\", \"dash\", \"karan\", \"chandra\", \"gandhi\", \"Bapu\"]\n",
    "element_to_insert = \"freedom_fighter\"\n",
    "name.insert(0, element_to_insert)\n",
    "print(name)\n"
   ]
  },
  {
   "cell_type": "code",
   "execution_count": 31,
   "id": "190d17ee",
   "metadata": {},
   "outputs": [],
   "source": [
    "#b)find the output of the following ,and explain how?"
   ]
  },
  {
   "cell_type": "code",
   "execution_count": 32,
   "id": "13505d7c",
   "metadata": {},
   "outputs": [
    {
     "name": "stdout",
     "output_type": "stream",
     "text": [
      "8\n"
     ]
    }
   ],
   "source": [
    "name = [\"freedomFighter\", \"Bapuji\", \"MOhan\", \"dash\", \"karam\", \"chandra\", \"gandhi\"]\n",
    "length1 = len((name[-len(name)+1:-1:2]))\n",
    "length2 = len((name[-len(name)+1:-1]))\n",
    "print(length1 + length2)\n"
   ]
  },
  {
   "cell_type": "code",
   "execution_count": 34,
   "id": "48b1b581",
   "metadata": {},
   "outputs": [
    {
     "name": "stdout",
     "output_type": "stream",
     "text": [
      "['freedomFighter', 'Bapuji', 'MOhan', 'dash', 'karam', 'chandra', 'gandhi', 'NetoJi', 'Bose']\n"
     ]
    }
   ],
   "source": [
    "#c)odd   two more elements in the name [\"NetaJi\",\"Bose\"] at the end of the list.\n",
    "\n",
    "# Initial list\n",
    "name = [\"freedomFighter\", \"Bapuji\", \"MOhan\", \"dash\", \"karam\", \"chandra\", \"gandhi\"]\n",
    "\n",
    "# Adding elements \"NetoJi\" and \"Bose\" to the end of the list\n",
    "name.extend([\"NetoJi\", \"Bose\"])\n",
    "print(name)"
   ]
  },
  {
   "cell_type": "code",
   "execution_count": 39,
   "id": "111463cb",
   "metadata": {},
   "outputs": [
    {
     "name": "stdout",
     "output_type": "stream",
     "text": [
      "Mohon\n"
     ]
    }
   ],
   "source": [
    "#d)what willbe the value of temp:\n",
    "name = [\"Bapuji\", \"dash\", \"korom\", \"chandro\", \"gandi\", \"Mohon\"]\n",
    "temp = name[-1]\n",
    "name[-1] = name[0]\n",
    "name[0] = temp\n",
    "print(temp)"
   ]
  },
  {
   "cell_type": "markdown",
   "id": "daa3e3cf",
   "metadata": {},
   "source": [
    "# Question 1.4.Find the output of the following. "
   ]
  },
  {
   "cell_type": "code",
   "execution_count": 40,
   "id": "c90e8641",
   "metadata": {},
   "outputs": [
    {
     "name": "stdout",
     "output_type": "stream",
     "text": [
      "2\n",
      "4\n",
      "7\n"
     ]
    }
   ],
   "source": [
    "animal = ['Human', 'cat', 'mat', 'cat', 'rat', 'Human', 'lion']\n",
    "print(animal.count('Human'))\n",
    "print(animal.index('rat'))\n",
    "print(len(animal))"
   ]
  },
  {
   "cell_type": "markdown",
   "id": "407db09d",
   "metadata": {},
   "source": [
    "# Question 1.5 "
   ]
  },
  {
   "cell_type": "code",
   "execution_count": 41,
   "id": "a6ae980a",
   "metadata": {},
   "outputs": [
    {
     "name": "stdout",
     "output_type": "stream",
     "text": [
      "8\n",
      "Navneet\n",
      "1\n",
      "ji\n",
      "22\n"
     ]
    }
   ],
   "source": [
    "tuple1 = (10, 20, \"Apple\", 3.4, 'a', [\"master\", \"ji\"], (\"sita\", \"geeta\", 22), [{\"roll_no\", 1}, {\"name\", \"Navneet\"}])\n",
    "\n",
    "# a) Print the length of tuple1\n",
    "print(len(tuple1))\n",
    "\n",
    "# b) Print the value of \"name\" in the last element of the tuple\n",
    "print(next(iter(tuple1[-1][-1])) if 'name' in tuple1[-1][-1] else next(iter(tuple1[-1][0])))\n",
    "\n",
    "# c) Fetch the value of \"roll_no\" from this tuple\n",
    "print(next(iter(tuple1[-1][0])) if 'roll_no' in tuple1[-1][0] else next(iter(tuple1[-1][1])))\n",
    "\n",
    "# d) Print the second element of the third last element of the tuple\n",
    "print(tuple1[-3][1])\n",
    "\n",
    "# e) Fetch the element \"22\" from this tuple\n",
    "print(tuple1[-2][-1])\n"
   ]
  },
  {
   "cell_type": "code",
   "execution_count": 43,
   "id": "591a4522",
   "metadata": {},
   "outputs": [],
   "source": [
    "# 1.6.Write a program to display the appropriate message as per the color of signal(RED- Stop/ Yellow- Stay/ Green- Go) at the road crossing."
   ]
  },
  {
   "cell_type": "code",
   "execution_count": 44,
   "id": "2664e458",
   "metadata": {},
   "outputs": [
    {
     "name": "stdout",
     "output_type": "stream",
     "text": [
      "Enter the signal color (RED/YELLOW/GREEN): YELLOW\n",
      "YELLOW - Stay\n"
     ]
    }
   ],
   "source": [
    "# Function to display message based on traffic signal color\n",
    "def traffic_signal_message(signal_color):\n",
    "    signal_color = signal_color.upper()\n",
    "    \n",
    "    if signal_color == 'RED':\n",
    "        print(\"RED - Stop\")\n",
    "    elif signal_color == 'YELLOW':\n",
    "        print(\"YELLOW - Stay\")\n",
    "    elif signal_color == 'GREEN':\n",
    "        print(\"GREEN - Go\")\n",
    "    else:\n",
    "        print(\"Invalid color. Please enter RED, YELLOW, or GREEN.\")\n",
    "\n",
    "color = input(\"Enter the signal color (RED/YELLOW/GREEN): \")\n",
    "traffic_signal_message(color)"
   ]
  },
  {
   "cell_type": "code",
   "execution_count": null,
   "id": "71f58f68",
   "metadata": {},
   "outputs": [],
   "source": [
    "#1.7.Write a program to create a simplecalculator performing only four basic operations(+,- ,/,•) ."
   ]
  },
  {
   "cell_type": "code",
   "execution_count": 46,
   "id": "8a210b75",
   "metadata": {},
   "outputs": [
    {
     "name": "stdout",
     "output_type": "stream",
     "text": [
      "Simple Calculator\n",
      "Enter the first number: 10\n",
      "Enter the second number: 56\n",
      "Enter the operation (+, -, *, /): *\n",
      "The result is: 560.0\n",
      "Do you want to perform another calculation? (yes/no): no\n",
      "Exiting the calculator. Goodbye!\n"
     ]
    }
   ],
   "source": [
    "def calculator(num1, num2, operation):\n",
    "    if operation == '+':\n",
    "        return num1 + num2\n",
    "    elif operation == '-':\n",
    "        return num1 - num2\n",
    "    elif operation == '*':\n",
    "        return num1 * num2\n",
    "    elif operation == '/':\n",
    "        if num2 != 0:\n",
    "            return num1 / num2\n",
    "        else:\n",
    "            return \"Error! Division by zero.\"\n",
    "    else:\n",
    "        return \"Invalid operation. Please use +, -, *, or /.\"\n",
    "\n",
    "while True:\n",
    "    print(\"Simple Calculator\")\n",
    "    num1 = float(input(\"Enter the first number: \"))\n",
    "    num2 = float(input(\"Enter the second number: \"))\n",
    "    operation = input(\"Enter the operation (+, -, *, /): \")\n",
    "    \n",
    "    result = calculator(num1, num2, operation)\n",
    "    print(f\"The result is: {result}\")\n",
    "\n",
    "    cont = input(\"Do you want to perform another calculation? (yes/no): \").strip().lower()\n",
    "    if cont != 'yes':\n",
    "        print(\"Exiting the calculator. Goodbye!\")\n",
    "        break"
   ]
  },
  {
   "cell_type": "code",
   "execution_count": 48,
   "id": "a6ea5287",
   "metadata": {},
   "outputs": [
    {
     "name": "stdout",
     "output_type": "stream",
     "text": [
      "Enter the first number: 3\n",
      "Enter the second number: 5\n",
      "Enter the third number: 7\n",
      "The largest number is: 7.0\n"
     ]
    }
   ],
   "source": [
    "#1.8.Write a program to flnd the larger of the three pre- speclfled numbers using ternary operators.\n",
    "\n",
    "a = float(input(\"Enter the first number: \"))\n",
    "b = float(input(\"Enter the second number: \"))\n",
    "c = float(input(\"Enter the third number: \"))\n",
    "\n",
    "largest = a if (a > b and a > c) else (b if (b > c) else c)\n",
    "print(\"The largest number is:\", largest)"
   ]
  },
  {
   "cell_type": "code",
   "execution_count": 50,
   "id": "7e3a87df",
   "metadata": {},
   "outputs": [
    {
     "name": "stdout",
     "output_type": "stream",
     "text": [
      "Enter a whole number: 256\n",
      "1\n",
      "2\n",
      "4\n",
      "8\n",
      "16\n",
      "32\n",
      "64\n",
      "128\n",
      "256\n"
     ]
    }
   ],
   "source": [
    "#1.9.Write a program to find the factors of a whole number using a while loop.\n",
    "\n",
    "def find_factors(number):\n",
    "    i = 1\n",
    "    while i <= number:\n",
    "        if number % i == 0: \n",
    "            print(i)  \n",
    "        i += 1 \n",
    "\n",
    "number = int(input(\"Enter a whole number: \"))\n",
    "find_factors(number)"
   ]
  },
  {
   "cell_type": "code",
   "execution_count": 53,
   "id": "0989b33c",
   "metadata": {},
   "outputs": [
    {
     "name": "stdout",
     "output_type": "stream",
     "text": [
      "Enter a number (negative number to stop): 12\n",
      "Enter a number (negative number to stop): 56\n",
      "Enter a number (negative number to stop): \n",
      "Invalid input. Please enter a valid number.\n",
      "Enter a number (negative number to stop): 89\n",
      "Enter a number (negative number to stop): -45\n",
      "The sum of all positive numbers is: 157.0\n"
     ]
    }
   ],
   "source": [
    "#1.10.Write a program to find the sum of all the positive numbers entered by the user. As soon a s the user enters a negative number, stop taking In any further Input from the user and display the sum.\n",
    "\n",
    "def sum_positive_numbers():\n",
    "    total_sum = 0\n",
    "    \n",
    "    while True:\n",
    "        try:\n",
    "            number = float(input(\"Enter a number (negative number to stop): \"))\n",
    "            if number < 0:\n",
    "                break\n",
    "            total_sum += number\n",
    "        except ValueError:\n",
    "            print(\"Invalid input. Please enter a valid number.\")\n",
    "    \n",
    "    print(\"The sum of all positive numbers is:\", total_sum)\n",
    "\n",
    "sum_positive_numbers()"
   ]
  },
  {
   "cell_type": "code",
   "execution_count": 54,
   "id": "dc3c80c9",
   "metadata": {},
   "outputs": [
    {
     "name": "stdout",
     "output_type": "stream",
     "text": [
      "2\n",
      "3\n",
      "5\n",
      "7\n",
      "11\n",
      "13\n",
      "17\n",
      "19\n",
      "23\n",
      "29\n",
      "31\n",
      "37\n",
      "41\n",
      "43\n",
      "47\n",
      "53\n",
      "59\n",
      "61\n",
      "67\n",
      "71\n",
      "73\n",
      "79\n",
      "83\n",
      "89\n",
      "97\n"
     ]
    }
   ],
   "source": [
    "#1.11.Write a program to find prime numbers between 2 to 100 using nested for loops.\n",
    "\n",
    "def find_primes(start, end):\n",
    "    for num in range(start, end + 1):\n",
    "        if num > 1:  \n",
    "            is_prime = True\n",
    "            for i in range(2, num):\n",
    "                if num % i == 0:\n",
    "                    is_prime = False\n",
    "                    break\n",
    "            if is_prime:\n",
    "                print(num)\n",
    "\n",
    "find_primes(2, 100)"
   ]
  },
  {
   "cell_type": "code",
   "execution_count": null,
   "id": "0b88790c",
   "metadata": {},
   "outputs": [],
   "source": [
    "#1.12.\tWrite the programs for the following:"
   ]
  },
  {
   "cell_type": "markdown",
   "id": "7185600c",
   "metadata": {},
   "source": [
    "•Accept the marks of the student in five major subjects ond display the some.\n",
    "\n",
    "•Colculote the sum of the m arks of oll subjects.Divide the total marks by number of subjects (i.e.5), colculote percentage = to ta l morks/5 ond display the percentage.\n",
    "\n",
    "•Find the grade of the student os per the following criteria . Hint: UseMatch & cose for this.:\n"
   ]
  },
  {
   "cell_type": "code",
   "execution_count": 55,
   "id": "bac4af01",
   "metadata": {},
   "outputs": [
    {
     "name": "stdout",
     "output_type": "stream",
     "text": [
      "Enter marks for subject 1: 45\n",
      "Enter marks for subject 2: 78\n",
      "Enter marks for subject 3: 23\n",
      "Enter marks for subject 4: 78\n",
      "Enter marks for subject 5: 98\n",
      "Total Marks: 322.0\n",
      "Percentage: 64.40%\n",
      "Grade: C\n"
     ]
    }
   ],
   "source": [
    "def calculate_grade(percentage):\n",
    "    # Determine the grade based on the percentage\n",
    "    if percentage > 85:\n",
    "        return 'A'\n",
    "    elif percentage >= 75:\n",
    "        return 'B'\n",
    "    elif percentage >= 50:\n",
    "        return 'C'\n",
    "    elif percentage > 30:\n",
    "        return 'D'\n",
    "    else:\n",
    "        return 'Reappear'\n",
    "\n",
    "def main():\n",
    "    # Accept marks from the user\n",
    "    marks = []\n",
    "    for i in range(1, 6):\n",
    "        mark = float(input(f\"Enter marks for subject {i}: \"))\n",
    "        marks.append(mark)\n",
    "    \n",
    "    # Calculate total marks and percentage\n",
    "    total_marks = sum(marks)\n",
    "    percentage = total_marks / 5\n",
    "    \n",
    "    # Display the total marks and percentage\n",
    "    print(f\"Total Marks: {total_marks}\")\n",
    "    print(f\"Percentage: {percentage:.2f}%\")\n",
    "    \n",
    "    # Find and display the grade\n",
    "    grade = calculate_grade(percentage)\n",
    "    print(f\"Grade: {grade}\")\n",
    "main()"
   ]
  },
  {
   "cell_type": "code",
   "execution_count": 56,
   "id": "48f5cb1b",
   "metadata": {},
   "outputs": [
    {
     "name": "stdout",
     "output_type": "stream",
     "text": [
      "Enter the wavelength (in nm): 78\n",
      "The color corresponding to the wavelength 78.0 nm is Out of VIBGYOR range.\n"
     ]
    }
   ],
   "source": [
    "#1.13.\tWrite a program for VIBGYOR Spectrum based on their Wavelength using. Wave length Range:\n",
    "def get_color_from_wavelength(wavelength):\n",
    "    if 380 <= wavelength < 450:\n",
    "        return 'Violet'\n",
    "    elif 450 <= wavelength < 495:\n",
    "        return 'Indigo'\n",
    "    elif 495 <= wavelength < 570:\n",
    "        return 'Blue'\n",
    "    elif 570 <= wavelength < 590:\n",
    "        return 'Green'\n",
    "    elif 590 <= wavelength < 620:\n",
    "        return 'Yellow'\n",
    "    elif 620 <= wavelength < 750:\n",
    "        return 'Orange'\n",
    "    elif 750 <= wavelength <= 800:\n",
    "        return 'Red'\n",
    "    else:\n",
    "        return 'Out of VIBGYOR range'\n",
    "\n",
    "def main():\n",
    "    try:\n",
    "        # Accept wavelength input from the user\n",
    "        wavelength = float(input(\"Enter the wavelength (in nm): \"))\n",
    "        \n",
    "        # Get the color based on the wavelength\n",
    "        color = get_color_from_wavelength(wavelength)\n",
    "        \n",
    "        # Display the color\n",
    "        print(f\"The color corresponding to the wavelength {wavelength} nm is {color}.\")\n",
    "    \n",
    "    except ValueError:\n",
    "        print(\"Invalid input. Please enter a valid number.\")\n",
    "main()"
   ]
  },
  {
   "cell_type": "code",
   "execution_count": 57,
   "id": "a25d01f0",
   "metadata": {},
   "outputs": [
    {
     "name": "stdout",
     "output_type": "stream",
     "text": [
      "Gravitational force between the Earth and the Sun: 3.54e+22 N\n",
      "Gravitational force between the Moon and the Earth: 1.98e+20 N\n",
      "The gravitational force between the Earth and the Sun is stronger.\n",
      "Explanation:\n",
      "The Earth is more attracted to the Sun than the Moon is to the Earth because the force of gravity between the Earth and the Sun is significantly stronger than the force between the Moon and the Earth.\n"
     ]
    }
   ],
   "source": [
    "#1.14.\tConsider the gravitational interactions between the Earth, Moon, and Sun in our solar system. Given:\n",
    "\n",
    "def gravitational_force(m1, m2, distance):\n",
    "    G = 6.67430e-11  # Gravitational constant in m^3 kg^-1 s^-2\n",
    "    return G * (m1 * m2) / (distance ** 2)\n",
    "\n",
    "def main():\n",
    "    # Given data\n",
    "    mass_earth = 5.972e24  # Mass of Earth in kilograms\n",
    "    mass_moon = 7.34767309e22  # Mass of Moon in kilograms\n",
    "    mass_sun = 1.989e30  # Mass of Sun in kilograms\n",
    "    distance_earth_sun = 1.496e11  # Average distance between Earth and Sun in meters\n",
    "    distance_moon_earth = 3.844e8  # Average distance between Moon and Earth in meters\n",
    "    \n",
    "    # Calculate gravitational forces\n",
    "    force_earth_sun = gravitational_force(mass_earth, mass_sun, distance_earth_sun)\n",
    "    force_moon_earth = gravitational_force(mass_moon, mass_earth, distance_moon_earth)\n",
    "    \n",
    "    # Display the results\n",
    "    print(f\"Gravitational force between the Earth and the Sun: {force_earth_sun:.2e} N\")\n",
    "    print(f\"Gravitational force between the Moon and the Earth: {force_moon_earth:.2e} N\")\n",
    "    \n",
    "    # Compare the forces\n",
    "    if force_earth_sun > force_moon_earth:\n",
    "        print(\"The gravitational force between the Earth and the Sun is stronger.\")\n",
    "    else:\n",
    "        print(\"The gravitational force between the Moon and the Earth is stronger.\")\n",
    "    \n",
    "    # Explanation\n",
    "    print(\"Explanation:\")\n",
    "    if force_earth_sun > force_moon_earth:\n",
    "        print(\"The Earth is more attracted to the Sun than the Moon is to the Earth because the force of gravity between the Earth and the Sun is significantly stronger than the force between the Moon and the Earth.\")\n",
    "    else:\n",
    "        print(\"The gravitational force between the Moon and the Earth is weaker compared to the force between the Earth and the Sun, but the attraction is still noticeable. The Moon’s attraction to the Earth is much less than the Earth’s attraction to the Sun due to the vast distance and mass differences.\")\n",
    "\n",
    "main()"
   ]
  },
  {
   "cell_type": "code",
   "execution_count": 62,
   "id": "c17cf043",
   "metadata": {},
   "outputs": [],
   "source": [
    "#2.\tDesign and implement a Python program for managing student information using object- oriented principles. "
   ]
  },
  {
   "cell_type": "code",
   "execution_count": 65,
   "id": "bc1e9936",
   "metadata": {},
   "outputs": [
    {
     "name": "stdout",
     "output_type": "stream",
     "text": [
      "Initial Student Information:\n",
      "Name: Alice\n",
      "Age: 20\n",
      "Roll Number: S12345\n",
      "\n",
      "Updated Student Information:\n",
      "Name: Alice Smith\n",
      "Age: 21\n",
      "Roll Number: S54321\n",
      "Age must be a positive number.\n"
     ]
    }
   ],
   "source": [
    "class Student:\n",
    "    def __init__(self, name, age, roll_number):\n",
    "        self.__name = name\n",
    "        self.__age = age\n",
    "        self.__roll_number = roll_number\n",
    "\n",
    "    def get_name(self):\n",
    "        return self.__name\n",
    "\n",
    "    def set_name(self, name):\n",
    "        self.__name = name\n",
    "\n",
    "    def get_age(self):\n",
    "        return self.__age\n",
    "\n",
    "    def set_age(self, age):\n",
    "        if age > 0:\n",
    "            self.__age = age\n",
    "        else:\n",
    "            print(\"Age must be a positive number.\")\n",
    "\n",
    "    def get_roll_number(self):\n",
    "        return self.__roll_number\n",
    "\n",
    "    def set_roll_number(self, roll_number):\n",
    "        self.__roll_number = roll_number\n",
    "\n",
    "    def display_info(self):\n",
    "        print(f\"Name: {self.__name}\")\n",
    "        print(f\"Age: {self.__age}\")\n",
    "        print(f\"Roll Number: {self.__roll_number}\")\n",
    "\n",
    "    def update_details(self, name=None, age=None, roll_number=None):\n",
    "        if name is not None:\n",
    "            self.__name = name\n",
    "        if age is not None:\n",
    "            if age > 0:\n",
    "                self.__age = age\n",
    "            else:\n",
    "                print(\"Age must be a positive number.\")\n",
    "        if roll_number is not None:\n",
    "            self.__roll_number = roll_number\n",
    "\n",
    "def main():\n",
    "    student1 = Student(\"Alice\", 20, \"S12345\")\n",
    "\n",
    "    # Display student information\n",
    "    print(\"Initial Student Information:\")\n",
    "    student1.display_info()\n",
    "\n",
    "    # Update student details\n",
    "    student1.update_details(name=\"Alice Smith\", age=21, roll_number=\"S54321\")\n",
    "\n",
    "    # Display updated student information\n",
    "    print(\"\\nUpdated Student Information:\")\n",
    "    student1.display_info()\n",
    "\n",
    "    # Test invalid age\n",
    "    student1.set_age(-5) \n",
    "\n",
    "if __name__ == \"__main__\":\n",
    "    main()"
   ]
  },
  {
   "cell_type": "code",
   "execution_count": 66,
   "id": "6e696d35",
   "metadata": {},
   "outputs": [],
   "source": [
    "#3.\tDevelop a Pythonprogram for managing library resources efficiently.Design a classnamed' Libra ryBook' with attributes like boak nam e, author, and availability status.Implement methods for borrowing and returning books while ensuring proper encapsulation of attributes."
   ]
  },
  {
   "cell_type": "code",
   "execution_count": 69,
   "id": "df8e5bb4",
   "metadata": {},
   "outputs": [
    {
     "name": "stdout",
     "output_type": "stream",
     "text": [
      "Initial Book Information:\n",
      "Book Name: The Great Gatsby\n",
      "Author: F. Scott Fitzgerald\n",
      "Status: Available\n",
      "You have successfully borrowed 'The Great Gatsby'.\n",
      "'The Great Gatsby' is currently unavailable.\n",
      "'The Great Gatsby' has been returned successfully.\n",
      "\n",
      "Updated Book Information:\n",
      "Book Name: The Great Gatsby\n",
      "Author: F. Scott Fitzgerald\n",
      "Status: Available\n",
      "'The Great Gatsby' was not borrowed.\n"
     ]
    }
   ],
   "source": [
    "class LibraryBook:\n",
    "    def __init__(self, book_name, author):\n",
    "        self.__book_name = book_name\n",
    "        self.__author = author\n",
    "        self.__is_available = True  \n",
    "\n",
    "    # Getter methods\n",
    "    def get_book_name(self):\n",
    "        return self.__book_name\n",
    "\n",
    "    def get_author(self):\n",
    "        return self.__author\n",
    "\n",
    "    def is_available(self):\n",
    "        return self.__is_available\n",
    "\n",
    "    # Method to borrow a book\n",
    "    def borrow_book(self):\n",
    "        if self.__is_available:\n",
    "            self.__is_available = False\n",
    "            print(f\"You have successfully borrowed '{self.__book_name}'.\")\n",
    "        else:\n",
    "            print(f\"'{self.__book_name}' is currently unavailable.\")\n",
    "\n",
    "    # Method to return a book\n",
    "    def return_book(self):\n",
    "        if not self.__is_available:\n",
    "            self.__is_available = True\n",
    "            print(f\"'{self.__book_name}' has been returned successfully.\")\n",
    "        else:\n",
    "            print(f\"'{self.__book_name}' was not borrowed.\")\n",
    "\n",
    "    # Method to display book details\n",
    "    def display_info(self):\n",
    "        status = \"Available\" if self.__is_available else \"Not Available\"\n",
    "        print(f\"Book Name: {self.__book_name}\")\n",
    "        print(f\"Author: {self.__author}\")\n",
    "        print(f\"Status: {status}\")\n",
    "\n",
    "def main():\n",
    "    book1 = LibraryBook(\"The Great Gatsby\", \"F. Scott Fitzgerald\")\n",
    "\n",
    "    # Display initial book details\n",
    "    print(\"Initial Book Information:\")\n",
    "    book1.display_info()\n",
    "\n",
    "    # Borrow the book\n",
    "    book1.borrow_book()\n",
    "\n",
    "    # Try to borrow the book again\n",
    "    book1.borrow_book()\n",
    "\n",
    "    # Return the book\n",
    "    book1.return_book()\n",
    "\n",
    "    # Display updated book details\n",
    "    print(\"\\nUpdated Book Information:\")\n",
    "    book1.display_info()\n",
    "\n",
    "    # Try to return the book again\n",
    "    book1.return_book()\n",
    "\n",
    "if __name__ == \"__main__\":\n",
    "    main()"
   ]
  },
  {
   "cell_type": "code",
   "execution_count": 70,
   "id": "858be2f2",
   "metadata": {},
   "outputs": [],
   "source": [
    "#4.\tCreate a simple banking system using object-oriented concepts in Python. Design classes representing different types of bank accountssuchas savings and checking. Implement methods for deposit, withdraw, and balanceinquiry. Utilizeinheritance to manage different account types efficiently."
   ]
  },
  {
   "cell_type": "code",
   "execution_count": 81,
   "id": "3e8f289b",
   "metadata": {},
   "outputs": [
    {
     "name": "stdout",
     "output_type": "stream",
     "text": [
      "Deposited $1000.00. New balance: $1000.00.\n",
      "Deposited $15.00. New balance: $1015.00.\n",
      "Interest added: $15.00. New balance: $1015.00.\n",
      "Withdrew $200.00. New balance: $815.00.\n",
      "\n",
      "Savings Account Info:\n",
      "Account Number: SA12345\n",
      "Holder Name: Alice\n",
      "Current balance: $815.00\n",
      "Interest Rate: 1.5%\n",
      "Deposited $500.00. New balance: $500.00.\n",
      "Withdrew $600.00. New balance: $-100.00.\n",
      "Withdrew $100.00. New balance: $-200.00.\n",
      "\n",
      "Checking Account Info:\n",
      "Account Number: CA67890\n",
      "Holder Name: Bob\n",
      "Current balance: $-200.00\n",
      "Overdraft Limit: $500.00\n"
     ]
    }
   ],
   "source": [
    "class BankAccount:\n",
    "    def __init__(self, account_number, holder_name):\n",
    "        self._account_number = account_number\n",
    "        self._holder_name = holder_name\n",
    "        self._balance = 0.0  # Changed to protected\n",
    "\n",
    "    # Method to deposit money\n",
    "    def deposit(self, amount):\n",
    "        if amount > 0:\n",
    "            self._balance += amount\n",
    "            print(f\"Deposited ${amount:.2f}. New balance: ${self._balance:.2f}.\")\n",
    "        else:\n",
    "            print(\"Deposit amount must be positive.\")\n",
    "\n",
    "    # Method to withdraw money\n",
    "    def withdraw(self, amount):\n",
    "        if amount > 0:\n",
    "            if amount <= self._balance:\n",
    "                self._balance -= amount\n",
    "                print(f\"Withdrew ${amount:.2f}. New balance: ${self._balance:.2f}.\")\n",
    "            else:\n",
    "                print(\"Insufficient funds.\")\n",
    "        else:\n",
    "            print(\"Withdrawal amount must be positive.\")\n",
    "\n",
    "    # Method to check balance\n",
    "    def check_balance(self):\n",
    "        return f\"Current balance: ${self._balance:.2f}\"\n",
    "\n",
    "    # Method to display account information\n",
    "    def display_info(self):\n",
    "        print(f\"Account Number: {self._account_number}\")\n",
    "        print(f\"Holder Name: {self._holder_name}\")\n",
    "        print(self.check_balance())\n",
    "\n",
    "\n",
    "class SavingsAccount(BankAccount):\n",
    "    def __init__(self, account_number, holder_name, interest_rate):\n",
    "        super().__init__(account_number, holder_name)\n",
    "        self._interest_rate = interest_rate  # Changed to protected\n",
    "\n",
    "    # Method to add interest\n",
    "    def add_interest(self):\n",
    "        interest = self._balance * (self._interest_rate / 100)\n",
    "        self.deposit(interest)\n",
    "        print(f\"Interest added: ${interest:.2f}. New balance: ${self._balance:.2f}.\")\n",
    "\n",
    "    # Override display_info to include interest rate\n",
    "    def display_info(self):\n",
    "        super().display_info()\n",
    "        print(f\"Interest Rate: {self._interest_rate}%\")\n",
    "\n",
    "class CheckingAccount(BankAccount):\n",
    "    def __init__(self, account_number, holder_name, overdraft_limit):\n",
    "        super().__init__(account_number, holder_name)\n",
    "        self._overdraft_limit = overdraft_limit  # Changed to protected\n",
    "\n",
    "    # Override withdraw method to include overdraft functionality\n",
    "    def withdraw(self, amount):\n",
    "        if amount > 0:\n",
    "            if amount <= (self._balance + self._overdraft_limit):\n",
    "                self._balance -= amount\n",
    "                print(f\"Withdrew ${amount:.2f}. New balance: ${self._balance:.2f}.\")\n",
    "            else:\n",
    "                print(f\"Insufficient funds. Overdraft limit is ${self._overdraft_limit:.2f}.\")\n",
    "        else:\n",
    "            print(\"Withdrawal amount must be positive.\")\n",
    "\n",
    "    # Override display_info to include overdraft limit\n",
    "    def display_info(self):\n",
    "        super().display_info()\n",
    "        print(f\"Overdraft Limit: ${self._overdraft_limit:.2f}\")\n",
    "\n",
    "# Testing the banking system\n",
    "def main():\n",
    "    # Create a savings account\n",
    "    savings_account = SavingsAccount(\"SA12345\", \"Alice\", 1.5)\n",
    "    savings_account.deposit(1000)\n",
    "    savings_account.add_interest()\n",
    "    savings_account.withdraw(200)\n",
    "    print(\"\\nSavings Account Info:\")\n",
    "    savings_account.display_info()\n",
    "\n",
    "    # Create a checking account\n",
    "    checking_account = CheckingAccount(\"CA67890\", \"Bob\", 500)\n",
    "    checking_account.deposit(500)\n",
    "    checking_account.withdraw(600)  # This will use the overdraft limit\n",
    "    checking_account.withdraw(100)  # This will exceed the overdraft limit\n",
    "    print(\"\\nChecking Account Info:\")\n",
    "    checking_account.display_info()\n",
    "\n",
    "if __name__ == \"__main__\":\n",
    "    main()"
   ]
  },
  {
   "cell_type": "code",
   "execution_count": 82,
   "id": "4803acb7",
   "metadata": {},
   "outputs": [],
   "source": [
    "#5.\tWrite a Python program that models different animals and their sounds. Design a base class called ' AnimaL with a method·  make_soundO\". Create subclasses like' Dog and cat that override the make _ sound()' method to produce appropriate sounds."
   ]
  },
  {
   "cell_type": "code",
   "execution_count": 83,
   "id": "26349425",
   "metadata": {},
   "outputs": [
    {
     "name": "stdout",
     "output_type": "stream",
     "text": [
      "The dog says: Woof!\n",
      "The cat says: Meow!\n"
     ]
    }
   ],
   "source": [
    "class Animal:\n",
    "    def make_sound(self):\n",
    "        raise NotImplementedError(\"Subclasses must implement this method\")\n",
    "\n",
    "class Dog(Animal):\n",
    "    def make_sound(self):\n",
    "        return \"Woof!\"\n",
    "\n",
    "class Cat(Animal):\n",
    "    def make_sound(self):\n",
    "        return \"Meow!\"\n",
    "\n",
    "# Testing the program\n",
    "def main():\n",
    "    # Create instances of Dog and Cat\n",
    "    dog = Dog()\n",
    "    cat = Cat()\n",
    "\n",
    "    # Call the make_sound method\n",
    "    print(f\"The dog says: {dog.make_sound()}\")\n",
    "    print(f\"The cat says: {cat.make_sound()}\")\n",
    "\n",
    "if __name__ == \"__main__\":\n",
    "    main()"
   ]
  },
  {
   "cell_type": "code",
   "execution_count": 1,
   "id": "7064ef4a",
   "metadata": {},
   "outputs": [],
   "source": [
    "#6.\tWrite a code for Restaurant Management System UsingOOPS:"
   ]
  },
  {
   "cell_type": "code",
   "execution_count": 3,
   "id": "bbc2edb2",
   "metadata": {},
   "outputs": [
    {
     "name": "stdout",
     "output_type": "stream",
     "text": [
      "Menu:\n",
      "Cheeseburger (Main Course): Juicy beef burger with cheese, $8.99, Not Spicy\n",
      "Cola (Beverage): Refreshing carbonated drink, $1.99, Size: Medium\n",
      "\n",
      "Updated Menu:\n",
      "Cheeseburger (Main Course): Juicy beef burger with cheese, $9.49, Spicy\n",
      "Cola (Beverage): Refreshing carbonated drink, $1.99, Size: Medium\n",
      "\n",
      "Menu After Removal:\n",
      "Cheeseburger (Main Course): Juicy beef burger with cheese, $9.49, Spicy\n"
     ]
    }
   ],
   "source": [
    "class MenuItem:\n",
    "    def __init__(self, name, description, price, category):\n",
    "        self.__id = id(self)  # Unique identifier (hidden using encapsulation)\n",
    "        self.name = name\n",
    "        self.description = description\n",
    "        self.price = price\n",
    "        self.category = category\n",
    "\n",
    "    def update_item(self, name=None, description=None, price=None, category=None):\n",
    "        if name:\n",
    "            self.name = name\n",
    "        if description:\n",
    "            self.description = description\n",
    "        if price:\n",
    "            self.price = price\n",
    "        if category:\n",
    "            self.category = category\n",
    "\n",
    "    def __str__(self):\n",
    "        return f\"{self.name} ({self.category}): {self.description}, ${self.price:.2f}\"\n",
    "\n",
    "class FoodItem(MenuItem):\n",
    "    def __init__(self, name, description, price, category, is_spicy):\n",
    "        super().__init__(name, description, price, category)\n",
    "        self.is_spicy = is_spicy\n",
    "\n",
    "    def update_item(self, name=None, description=None, price=None, category=None, is_spicy=None):\n",
    "        super().update_item(name, description, price, category)\n",
    "        if is_spicy is not None:\n",
    "            self.is_spicy = is_spicy\n",
    "\n",
    "    def __str__(self):\n",
    "        spicy_status = \"Spicy\" if self.is_spicy else \"Not Spicy\"\n",
    "        return f\"{super().__str__()}, {spicy_status}\"\n",
    "\n",
    "class BeverageItem(MenuItem):\n",
    "    def __init__(self, name, description, price, category, size):\n",
    "        super().__init__(name, description, price, category)\n",
    "        self.size = size\n",
    "\n",
    "    def update_item(self, name=None, description=None, price=None, category=None, size=None):\n",
    "        super().update_item(name, description, price, category)\n",
    "        if size is not None:\n",
    "            self.size = size\n",
    "\n",
    "    def __str__(self):\n",
    "        return f\"{super().__str__()}, Size: {self.size}\"\n",
    "\n",
    "class RestaurantMenu:\n",
    "    def __init__(self):\n",
    "        self.menu_items = []\n",
    "\n",
    "    def add_item(self, item):\n",
    "        self.menu_items.append(item)\n",
    "\n",
    "    def remove_item(self, item_id):\n",
    "        self.menu_items = [item for item in self.menu_items if item._MenuItem__id != item_id]\n",
    "\n",
    "    def update_item(self, item_id, **kwargs):\n",
    "        for item in self.menu_items:\n",
    "            if item._MenuItem__id == item_id:\n",
    "                if isinstance(item, FoodItem):\n",
    "                    item.update_item(**kwargs)\n",
    "                elif isinstance(item, BeverageItem):\n",
    "                    item.update_item(**kwargs)\n",
    "                break\n",
    "\n",
    "    def display_menu(self):\n",
    "        for item in self.menu_items:\n",
    "            print(item)\n",
    "\n",
    "# Example usage\n",
    "menu = RestaurantMenu()\n",
    "\n",
    "# Adding items\n",
    "burger = FoodItem(name=\"Cheeseburger\", description=\"Juicy beef burger with cheese\", price=8.99, category=\"Main Course\", is_spicy=False)\n",
    "cola = BeverageItem(name=\"Cola\", description=\"Refreshing carbonated drink\", price=1.99, category=\"Beverage\", size=\"Medium\")\n",
    "\n",
    "menu.add_item(burger)\n",
    "menu.add_item(cola)\n",
    "\n",
    "# Displaying menu\n",
    "print(\"Menu:\")\n",
    "menu.display_menu()\n",
    "\n",
    "# Updating an item\n",
    "burger_id = burger._MenuItem__id  # Accessing private attribute (for demonstration purposes only)\n",
    "menu.update_item(burger_id, price=9.49, is_spicy=True)\n",
    "\n",
    "# Displaying updated menu\n",
    "print(\"\\nUpdated Menu:\")\n",
    "menu.display_menu()\n",
    "\n",
    "# Removing an item\n",
    "menu.remove_item(cola._MenuItem__id)\n",
    "\n",
    "# Displaying menu after removal\n",
    "print(\"\\nMenu After Removal:\")\n",
    "menu.display_menu()\n"
   ]
  },
  {
   "cell_type": "code",
   "execution_count": 4,
   "id": "c7ea35de",
   "metadata": {},
   "outputs": [],
   "source": [
    "#7.\tWrite a code for Hotel Management System using OOPS:"
   ]
  },
  {
   "cell_type": "code",
   "execution_count": 5,
   "id": "17a6b843",
   "metadata": {},
   "outputs": [
    {
     "name": "stdout",
     "output_type": "stream",
     "text": [
      "Hotel Rooms:\n",
      "Room 101 (Suite): $200.00, Status: Available, without Jacuzzi\n",
      "Room 102 (Standard): $100.00, Status: Available, Bed Type: King\n",
      "Room 101 has been booked.\n",
      "Guest checked into room 101.\n",
      "\n",
      "Jacuzzi added to suite room 101.\n",
      "\n",
      "Guest checked out of room 101.\n",
      "\n",
      "Updated Hotel Rooms:\n",
      "Room 101 (Suite): $200.00, Status: Available, with Jacuzzi\n",
      "Room 102 (Standard): $100.00, Status: Available, Bed Type: King\n",
      "Bed type in room 102 changed to Queen.\n",
      "\n",
      "Final Hotel Rooms:\n",
      "Room 101 (Suite): $200.00, Status: Available, with Jacuzzi\n",
      "Room 102 (Standard): $100.00, Status: Available, Bed Type: Queen\n"
     ]
    }
   ],
   "source": [
    "class Room:\n",
    "    def __init__(self, room_number, room_type, rate):\n",
    "        self.__id = id(self)  # Unique identifier (hidden using encapsulation)\n",
    "        self.room_number = room_number\n",
    "        self.room_type = room_type\n",
    "        self.__rate = rate  # Private attribute\n",
    "        self.__availability = True  # Private attribute\n",
    "\n",
    "    def book_room(self):\n",
    "        if self.__availability:\n",
    "            self.__availability = False\n",
    "            print(f\"Room {self.room_number} has been booked.\")\n",
    "        else:\n",
    "            print(f\"Room {self.room_number} is already booked.\")\n",
    "\n",
    "    def check_in(self):\n",
    "        if not self.__availability:\n",
    "            print(f\"Guest checked into room {self.room_number}.\")\n",
    "        else:\n",
    "            print(f\"Room {self.room_number} is not booked yet.\")\n",
    "\n",
    "    def check_out(self):\n",
    "        if not self.__availability:\n",
    "            self.__availability = True\n",
    "            print(f\"Guest checked out of room {self.room_number}.\")\n",
    "        else:\n",
    "            print(f\"Room {self.room_number} is not occupied.\")\n",
    "\n",
    "    def __str__(self):\n",
    "        availability_status = \"Available\" if self.__availability else \"Occupied\"\n",
    "        return f\"Room {self.room_number} ({self.room_type}): ${self.__rate:.2f}, Status: {availability_status}\"\n",
    "\n",
    "class SuiteRoom(Room):\n",
    "    def __init__(self, room_number, rate, has_jacuzzi):\n",
    "        super().__init__(room_number, \"Suite\", rate)\n",
    "        self.has_jacuzzi = has_jacuzzi\n",
    "\n",
    "    def add_jacuzzi(self):\n",
    "        if not self.has_jacuzzi:\n",
    "            self.has_jacuzzi = True\n",
    "            print(f\"Jacuzzi added to suite room {self.room_number}.\")\n",
    "        else:\n",
    "            print(f\"Suite room {self.room_number} already has a jacuzzi.\")\n",
    "\n",
    "    def __str__(self):\n",
    "        jacuzzi_status = \"with Jacuzzi\" if self.has_jacuzzi else \"without Jacuzzi\"\n",
    "        return f\"{super().__str__()}, {jacuzzi_status}\"\n",
    "\n",
    "class StandardRoom(Room):\n",
    "    def __init__(self, room_number, rate, bed_type):\n",
    "        super().__init__(room_number, \"Standard\", rate)\n",
    "        self.bed_type = bed_type\n",
    "\n",
    "    def change_bed_type(self, bed_type):\n",
    "        self.bed_type = bed_type\n",
    "        print(f\"Bed type in room {self.room_number} changed to {self.bed_type}.\")\n",
    "\n",
    "    def __str__(self):\n",
    "        return f\"{super().__str__()}, Bed Type: {self.bed_type}\"\n",
    "\n",
    "class Hotel:\n",
    "    def __init__(self):\n",
    "        self.rooms = []\n",
    "\n",
    "    def add_room(self, room):\n",
    "        self.rooms.append(room)\n",
    "\n",
    "    def find_room(self, room_number):\n",
    "        for room in self.rooms:\n",
    "            if room.room_number == room_number:\n",
    "                return room\n",
    "        return None\n",
    "\n",
    "    def display_rooms(self):\n",
    "        for room in self.rooms:\n",
    "            print(room)\n",
    "\n",
    "# Example usage\n",
    "hotel = Hotel()\n",
    "\n",
    "# Adding rooms\n",
    "suite = SuiteRoom(room_number=101, rate=200.00, has_jacuzzi=False)\n",
    "standard = StandardRoom(room_number=102, rate=100.00, bed_type=\"King\")\n",
    "\n",
    "hotel.add_room(suite)\n",
    "hotel.add_room(standard)\n",
    "\n",
    "# Displaying rooms\n",
    "print(\"Hotel Rooms:\")\n",
    "hotel.display_rooms()\n",
    "\n",
    "# Booking and managing rooms\n",
    "suite.book_room()\n",
    "suite.check_in()\n",
    "print()\n",
    "\n",
    "# Updating suite room\n",
    "suite.add_jacuzzi()\n",
    "print()\n",
    "\n",
    "# Checking out of room\n",
    "suite.check_out()\n",
    "print()\n",
    "\n",
    "# Displaying updated rooms\n",
    "print(\"Updated Hotel Rooms:\")\n",
    "hotel.display_rooms()\n",
    "\n",
    "# Changing bed type in standard room\n",
    "standard.change_bed_type(\"Queen\")\n",
    "print()\n",
    "\n",
    "# Displaying rooms after bed type change\n",
    "print(\"Final Hotel Rooms:\")\n",
    "hotel.display_rooms()"
   ]
  },
  {
   "cell_type": "code",
   "execution_count": 6,
   "id": "9d5381af",
   "metadata": {},
   "outputs": [],
   "source": [
    "#8.write a code for Fitness club Management system using OOPS:"
   ]
  },
  {
   "cell_type": "code",
   "execution_count": 7,
   "id": "eb8edd02",
   "metadata": {},
   "outputs": [
    {
     "name": "stdout",
     "output_type": "stream",
     "text": [
      "Fitness Club Members:\n",
      "Member Smith Family, Age: 40, Membership Type: Family, Status: Active, Family Size: 4\n",
      "Member John Doe, Age: 30, Membership Type: Individual, Status: Active, Personal Trainer: Alice\n",
      "Smith Family is already registered.\n",
      "John Doe's membership has been canceled.\n",
      "\n",
      "Added a new family member. Total family size: 5.\n",
      "John Doe is now assigned to trainer Bob.\n",
      "\n",
      "Updated Fitness Club Members:\n",
      "Member Smith Family, Age: 40, Membership Type: Family, Status: Active, Family Size: 5\n",
      "Member John Doe, Age: 30, Membership Type: Individual, Status: Inactive, Personal Trainer: Bob\n"
     ]
    }
   ],
   "source": [
    "class Member:\n",
    "    def __init__(self, name, age, membership_type):\n",
    "        self.__id = id(self)  # Unique identifier (hidden using encapsulation)\n",
    "        self.name = name\n",
    "        self.age = age\n",
    "        self.membership_type = membership_type\n",
    "        self.__membership_status = \"Active\"  # Private attribute\n",
    "\n",
    "    def register_member(self):\n",
    "        if self.__membership_status == \"Active\":\n",
    "            print(f\"{self.name} is already registered.\")\n",
    "        else:\n",
    "            self.__membership_status = \"Active\"\n",
    "            print(f\"{self.name} has been registered.\")\n",
    "\n",
    "    def renew_membership(self):\n",
    "        if self.__membership_status == \"Active\":\n",
    "            print(f\"{self.name}'s membership is already active.\")\n",
    "        else:\n",
    "            self.__membership_status = \"Active\"\n",
    "            print(f\"{self.name}'s membership has been renewed.\")\n",
    "\n",
    "    def cancel_membership(self):\n",
    "        if self.__membership_status == \"Inactive\":\n",
    "            print(f\"{self.name}'s membership is already inactive.\")\n",
    "        else:\n",
    "            self.__membership_status = \"Inactive\"\n",
    "            print(f\"{self.name}'s membership has been canceled.\")\n",
    "\n",
    "    def __str__(self):\n",
    "        return f\"Member {self.name}, Age: {self.age}, Membership Type: {self.membership_type}, Status: {self.__membership_status}\"\n",
    "\n",
    "class FamilyMember(Member):\n",
    "    def __init__(self, name, age, membership_type, family_size):\n",
    "        super().__init__(name, age, membership_type)\n",
    "        self.family_size = family_size\n",
    "\n",
    "    def add_family_member(self):\n",
    "        self.family_size += 1\n",
    "        print(f\"Added a new family member. Total family size: {self.family_size}.\")\n",
    "\n",
    "    def __str__(self):\n",
    "        return f\"{super().__str__()}, Family Size: {self.family_size}\"\n",
    "\n",
    "class IndividualMember(Member):\n",
    "    def __init__(self, name, age, membership_type, personal_trainer):\n",
    "        super().__init__(name, age, membership_type)\n",
    "        self.personal_trainer = personal_trainer\n",
    "\n",
    "    def assign_trainer(self, trainer_name):\n",
    "        self.personal_trainer = trainer_name\n",
    "        print(f\"{self.name} is now assigned to trainer {trainer_name}.\")\n",
    "\n",
    "    def __str__(self):\n",
    "        return f\"{super().__str__()}, Personal Trainer: {self.personal_trainer}\"\n",
    "\n",
    "class FitnessClub:\n",
    "    def __init__(self):\n",
    "        self.members = []\n",
    "\n",
    "    def add_member(self, member):\n",
    "        self.members.append(member)\n",
    "\n",
    "    def find_member(self, member_id):\n",
    "        for member in self.members:\n",
    "            if member._Member__id == member_id:\n",
    "                return member\n",
    "        return None\n",
    "\n",
    "    def display_members(self):\n",
    "        for member in self.members:\n",
    "            print(member)\n",
    "\n",
    "# Example usage\n",
    "club = FitnessClub()\n",
    "\n",
    "# Adding members\n",
    "family_member = FamilyMember(name=\"Smith Family\", age=40, membership_type=\"Family\", family_size=4)\n",
    "individual_member = IndividualMember(name=\"John Doe\", age=30, membership_type=\"Individual\", personal_trainer=\"Alice\")\n",
    "\n",
    "club.add_member(family_member)\n",
    "club.add_member(individual_member)\n",
    "\n",
    "# Displaying members\n",
    "print(\"Fitness Club Members:\")\n",
    "club.display_members()\n",
    "\n",
    "# Managing memberships\n",
    "family_member.register_member()\n",
    "individual_member.cancel_membership()\n",
    "print()\n",
    "\n",
    "# Updating members\n",
    "family_member.add_family_member()\n",
    "individual_member.assign_trainer(\"Bob\")\n",
    "print()\n",
    "\n",
    "# Displaying updated members\n",
    "print(\"Updated Fitness Club Members:\")\n",
    "club.display_members()"
   ]
  },
  {
   "cell_type": "code",
   "execution_count": 8,
   "id": "6b268a7f",
   "metadata": {},
   "outputs": [],
   "source": [
    "#9.\tWrite a codefor Event Management System using OOPS:"
   ]
  },
  {
   "cell_type": "code",
   "execution_count": 9,
   "id": "a592cc23",
   "metadata": {},
   "outputs": [
    {
     "name": "stdout",
     "output_type": "stream",
     "text": [
      "Event 'Company Retreat' added.\n",
      "Event 'Music Festival' added.\n",
      "Alice Smith added to the event 'Company Retreat'.\n",
      "Bob Johnson added to the event 'Company Retreat'.\n",
      "Charlie Brown is not an attendee of 'Company Retreat'.\n",
      "David White added to the event 'Music Festival'.\n",
      "Eva Green added to the event 'Music Festival'.\n",
      "Event List:\n",
      "Event: Company Retreat\n",
      "Date: 2024-08-15\n",
      "Time: 10:00 AM\n",
      "Location: Mountain Lodge\n",
      "Total Attendees: 2\n",
      "Host: Jane Doe\n",
      "\n",
      "Event: Music Festival\n",
      "Date: 2024-09-01\n",
      "Time: 3:00 PM\n",
      "Location: City Park\n",
      "Total Attendees: 2\n",
      "Ticket Price: $25.00\n",
      "\n"
     ]
    }
   ],
   "source": [
    "class Event:\n",
    "    def __init__(self, name, date, time, location):\n",
    "        self.__id = id(self)  # Unique identifier (hidden using encapsulation)\n",
    "        self.name = name\n",
    "        self.date = date\n",
    "        self.time = time\n",
    "        self.location = location\n",
    "        self.__attendees = []  # Private attribute\n",
    "\n",
    "    def add_attendee(self, attendee):\n",
    "        if attendee not in self.__attendees:\n",
    "            self.__attendees.append(attendee)\n",
    "            print(f\"{attendee} added to the event '{self.name}'.\")\n",
    "        else:\n",
    "            print(f\"{attendee} is already an attendee of '{self.name}'.\")\n",
    "\n",
    "    def remove_attendee(self, attendee):\n",
    "        if attendee in self.__attendees:\n",
    "            self.__attendees.remove(attendee)\n",
    "            print(f\"{attendee} removed from the event '{self.name}'.\")\n",
    "        else:\n",
    "            print(f\"{attendee} is not an attendee of '{self.name}'.\")\n",
    "\n",
    "    def get_total_attendees(self):\n",
    "        return len(self.__attendees)\n",
    "\n",
    "    def __str__(self):\n",
    "        return (f\"Event: {self.name}\\n\"\n",
    "                f\"Date: {self.date}\\n\"\n",
    "                f\"Time: {self.time}\\n\"\n",
    "                f\"Location: {self.location}\\n\"\n",
    "                f\"Total Attendees: {self.get_total_attendees()}\")\n",
    "\n",
    "class PrivateEvent(Event):\n",
    "    def __init__(self, name, date, time, location, host):\n",
    "        super().__init__(name, date, time, location)\n",
    "        self.host = host\n",
    "\n",
    "    def __str__(self):\n",
    "        return f\"{super().__str__()}\\nHost: {self.host}\"\n",
    "\n",
    "class PublicEvent(Event):\n",
    "    def __init__(self, name, date, time, location, ticket_price):\n",
    "        super().__init__(name, date, time, location)\n",
    "        self.ticket_price = ticket_price\n",
    "\n",
    "    def __str__(self):\n",
    "        return f\"{super().__str__()}\\nTicket Price: ${self.ticket_price:.2f}\"\n",
    "\n",
    "class EventManager:\n",
    "    def __init__(self):\n",
    "        self.events = []\n",
    "\n",
    "    def add_event(self, event):\n",
    "        self.events.append(event)\n",
    "        print(f\"Event '{event.name}' added.\")\n",
    "\n",
    "    def display_events(self):\n",
    "        for event in self.events:\n",
    "            print(event)\n",
    "            print()\n",
    "\n",
    "# Example usage\n",
    "manager = EventManager()\n",
    "\n",
    "# Creating events\n",
    "private_event = PrivateEvent(name=\"Company Retreat\", date=\"2024-08-15\", time=\"10:00 AM\", location=\"Mountain Lodge\", host=\"Jane Doe\")\n",
    "public_event = PublicEvent(name=\"Music Festival\", date=\"2024-09-01\", time=\"3:00 PM\", location=\"City Park\", ticket_price=25.00)\n",
    "\n",
    "# Adding events to the manager\n",
    "manager.add_event(private_event)\n",
    "manager.add_event(public_event)\n",
    "\n",
    "# Adding and removing attendees\n",
    "private_event.add_attendee(\"Alice Smith\")\n",
    "private_event.add_attendee(\"Bob Johnson\")\n",
    "private_event.remove_attendee(\"Charlie Brown\")\n",
    "\n",
    "public_event.add_attendee(\"David White\")\n",
    "public_event.add_attendee(\"Eva Green\")\n",
    "\n",
    "# Displaying events\n",
    "print(\"Event List:\")\n",
    "manager.display_events()"
   ]
  },
  {
   "cell_type": "code",
   "execution_count": 10,
   "id": "7f3bca76",
   "metadata": {},
   "outputs": [],
   "source": [
    "#10.\tWrite a code for Airline Reservation System using OOPS:"
   ]
  },
  {
   "cell_type": "code",
   "execution_count": 11,
   "id": "fe246a59",
   "metadata": {},
   "outputs": [
    {
     "name": "stdout",
     "output_type": "stream",
     "text": [
      "Flight DL123 added.\n",
      "Flight AF456 added.\n",
      "Seat booked on flight DL123.\n",
      "Seat booked on flight DL123.\n",
      "Reservation canceled on flight DL123.\n",
      "\n",
      "Seat booked on flight AF456.\n",
      "\n",
      "Flight List:\n",
      "Flight Number: DL123\n",
      "Departure Airport: JFK\n",
      "Arrival Airport: LAX\n",
      "Departure Time: 2024-08-10 08:00\n",
      "Arrival Time: 2024-08-10 11:00\n",
      "Available Seats: 149\n",
      "State: California\n",
      "\n",
      "Flight Number: AF456\n",
      "Departure Airport: CDG\n",
      "Arrival Airport: JFK\n",
      "Departure Time: 2024-08-15 14:00\n",
      "Arrival Time: 2024-08-15 17:00\n",
      "Available Seats: 199\n",
      "Passport: Required\n",
      "\n"
     ]
    }
   ],
   "source": [
    "class Flight:\n",
    "    def __init__(self, flight_number, departure_airport, arrival_airport, departure_time, arrival_time, total_seats):\n",
    "        self.__id = id(self)  # Unique identifier (hidden using encapsulation)\n",
    "        self.flight_number = flight_number\n",
    "        self.departure_airport = departure_airport\n",
    "        self.arrival_airport = arrival_airport\n",
    "        self.departure_time = departure_time\n",
    "        self.arrival_time = arrival_time\n",
    "        self.__available_seats = total_seats  # Private attribute\n",
    "\n",
    "    def book_seat(self):\n",
    "        if self.__available_seats > 0:\n",
    "            self.__available_seats -= 1\n",
    "            print(f\"Seat booked on flight {self.flight_number}.\")\n",
    "        else:\n",
    "            print(f\"No available seats on flight {self.flight_number}.\")\n",
    "\n",
    "    def cancel_reservation(self):\n",
    "        self.__available_seats += 1\n",
    "        print(f\"Reservation canceled on flight {self.flight_number}.\")\n",
    "\n",
    "    def get_remaining_seats(self):\n",
    "        return self.__available_seats\n",
    "\n",
    "    def __str__(self):\n",
    "        return (f\"Flight Number: {self.flight_number}\\n\"\n",
    "                f\"Departure Airport: {self.departure_airport}\\n\"\n",
    "                f\"Arrival Airport: {self.arrival_airport}\\n\"\n",
    "                f\"Departure Time: {self.departure_time}\\n\"\n",
    "                f\"Arrival Time: {self.arrival_time}\\n\"\n",
    "                f\"Available Seats: {self.get_remaining_seats()}\")\n",
    "\n",
    "class DomesticFlight(Flight):\n",
    "    def __init__(self, flight_number, departure_airport, arrival_airport, departure_time, arrival_time, total_seats, state):\n",
    "        super().__init__(flight_number, departure_airport, arrival_airport, departure_time, arrival_time, total_seats)\n",
    "        self.state = state\n",
    "\n",
    "    def __str__(self):\n",
    "        return f\"{super().__str__()}\\nState: {self.state}\"\n",
    "\n",
    "class InternationalFlight(Flight):\n",
    "    def __init__(self, flight_number, departure_airport, arrival_airport, departure_time, arrival_time, total_seats, passport_required):\n",
    "        super().__init__(flight_number, departure_airport, arrival_airport, departure_time, arrival_time, total_seats)\n",
    "        self.passport_required = passport_required\n",
    "\n",
    "    def __str__(self):\n",
    "        passport_status = \"Required\" if self.passport_required else \"Not Required\"\n",
    "        return f\"{super().__str__()}\\nPassport: {passport_status}\"\n",
    "\n",
    "class AirlineReservationSystem:\n",
    "    def __init__(self):\n",
    "        self.flights = []\n",
    "\n",
    "    def add_flight(self, flight):\n",
    "        self.flights.append(flight)\n",
    "        print(f\"Flight {flight.flight_number} added.\")\n",
    "\n",
    "    def find_flight(self, flight_number):\n",
    "        for flight in self.flights:\n",
    "            if flight.flight_number == flight_number:\n",
    "                return flight\n",
    "        return None\n",
    "\n",
    "    def display_flights(self):\n",
    "        for flight in self.flights:\n",
    "            print(flight)\n",
    "            print()\n",
    "\n",
    "# Example usage\n",
    "system = AirlineReservationSystem()\n",
    "\n",
    "# Creating flights\n",
    "domestic_flight = DomesticFlight(\n",
    "    flight_number=\"DL123\",\n",
    "    departure_airport=\"JFK\",\n",
    "    arrival_airport=\"LAX\",\n",
    "    departure_time=\"2024-08-10 08:00\",\n",
    "    arrival_time=\"2024-08-10 11:00\",\n",
    "    total_seats=150,\n",
    "    state=\"California\"\n",
    ")\n",
    "\n",
    "international_flight = InternationalFlight(\n",
    "    flight_number=\"AF456\",\n",
    "    departure_airport=\"CDG\",\n",
    "    arrival_airport=\"JFK\",\n",
    "    departure_time=\"2024-08-15 14:00\",\n",
    "    arrival_time=\"2024-08-15 17:00\",\n",
    "    total_seats=200,\n",
    "    passport_required=True\n",
    ")\n",
    "\n",
    "# Adding flights to the system\n",
    "system.add_flight(domestic_flight)\n",
    "system.add_flight(international_flight)\n",
    "\n",
    "# Booking and canceling seats\n",
    "domestic_flight.book_seat()\n",
    "domestic_flight.book_seat()\n",
    "domestic_flight.cancel_reservation()\n",
    "print()\n",
    "\n",
    "international_flight.book_seat()\n",
    "print()\n",
    "\n",
    "# Displaying flights\n",
    "print(\"Flight List:\")\n",
    "system.display_flights()\n"
   ]
  },
  {
   "cell_type": "code",
   "execution_count": 15,
   "id": "79df4fbb",
   "metadata": {},
   "outputs": [],
   "source": [
    "#11.\tDefine a Python module named constants.py containing constants like pi and thespeed of light."
   ]
  },
  {
   "cell_type": "code",
   "execution_count": 18,
   "id": "7d29bf87",
   "metadata": {},
   "outputs": [
    {
     "name": "stdout",
     "output_type": "stream",
     "text": [
      "The value of pi is approximately: 3.141592653589793\n",
      "The speed of light is: 299792458 meters per second\n"
     ]
    }
   ],
   "source": [
    "# constants.py\n",
    "# Mathematical constant: Pi\n",
    "PI = 3.141592653589793\n",
    "\n",
    "# Speed of light in vacuum (meters per second)\n",
    "SPEED_OF_LIGHT = 299792458\n",
    "\n",
    "# main.py\n",
    "\n",
    "# Import constants from constants.py\n",
    "#from constants import PI, SPEED_OF_LIGHT\n",
    "print(f\"The value of pi is approximately: {PI}\")\n",
    "print(f\"The speed of light is: {SPEED_OF_LIGHT} meters per second\")"
   ]
  },
  {
   "cell_type": "code",
   "execution_count": 14,
   "id": "15fdb1e3",
   "metadata": {},
   "outputs": [],
   "source": [
    "#12.\tWrite a Python module named calculator.py containing functions for addition, subtraction, multiplicatio,n and division."
   ]
  },
  {
   "cell_type": "code",
   "execution_count": 19,
   "id": "cb551450",
   "metadata": {},
   "outputs": [],
   "source": [
    "# calculator.py\n",
    "\n",
    "def add(a, b):\n",
    "    \"\"\"\n",
    "    Returns the sum of a and b.\n",
    "    \"\"\"\n",
    "    return a + b\n",
    "\n",
    "def subtract(a, b):\n",
    "    \"\"\"\n",
    "    Returns the difference between a and b.\n",
    "    \"\"\"\n",
    "    return a - b\n",
    "\n",
    "def multiply(a, b):\n",
    "    \"\"\"\n",
    "    Returns the product of a and b.\n",
    "    \"\"\"\n",
    "    return a * b\n",
    "\n",
    "def divide(a, b):\n",
    "    \"\"\"\n",
    "    Returns the quotient of a divided by b.\n",
    "    Raises ZeroDivisionError if b is zero.\n",
    "    \"\"\"\n",
    "    if b == 0:\n",
    "        raise ZeroDivisionError(\"Cannot divide by zero.\")\n",
    "    return a / b\n"
   ]
  },
  {
   "cell_type": "code",
   "execution_count": 20,
   "id": "b7de2a94",
   "metadata": {},
   "outputs": [
    {
     "name": "stdout",
     "output_type": "stream",
     "text": [
      "10 + 5 = 15\n",
      "10 - 5 = 5\n",
      "10 * 5 = 50\n",
      "10 / 5 = 2.0\n"
     ]
    }
   ],
   "source": [
    "# main.py\n",
    "\n",
    "# Import functions from calculator.py\n",
    "#from calculator import add, subtract, multiply, divide\n",
    "\n",
    "# Example usage\n",
    "a = 10\n",
    "b = 5\n",
    "\n",
    "print(f\"{a} + {b} = {add(a, b)}\")\n",
    "print(f\"{a} - {b} = {subtract(a, b)}\")\n",
    "print(f\"{a} * {b} = {multiply(a, b)}\")\n",
    "print(f\"{a} / {b} = {divide(a, b)}\")\n"
   ]
  }
 ],
 "metadata": {
  "kernelspec": {
   "display_name": "Python 3 (ipykernel)",
   "language": "python",
   "name": "python3"
  },
  "language_info": {
   "codemirror_mode": {
    "name": "ipython",
    "version": 3
   },
   "file_extension": ".py",
   "mimetype": "text/x-python",
   "name": "python",
   "nbconvert_exporter": "python",
   "pygments_lexer": "ipython3",
   "version": "3.10.9"
  }
 },
 "nbformat": 4,
 "nbformat_minor": 5
}
