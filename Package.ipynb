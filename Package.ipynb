{
 "cells": [
  {
   "cell_type": "code",
   "execution_count": 10,
   "id": "461a2489",
   "metadata": {},
   "outputs": [],
   "source": [
    "#13.Implement a Python package structure for a project named ecommerce, containing modules for product management and order processing."
   ]
  },
  {
   "cell_type": "code",
   "execution_count": 51,
   "id": "9eef594e",
   "metadata": {},
   "outputs": [],
   "source": [
    "class Product:\n",
    "    def __init__(self, product_id: int, name: str, price: float):\n",
    "        self.product_id = product_id\n",
    "        self.name = name\n",
    "        self.price = price\n",
    "\n",
    "    def __repr__(self):\n",
    "        return f\"Product(id={self.product_id}, name='{self.name}', price={self.price})\"\n",
    "\n",
    "class ProductManager:\n",
    "    def __init__(self):\n",
    "        self.products = []\n",
    "\n",
    "    def add_product(self, product: Product):\n",
    "        self.products.append(product)\n",
    "\n",
    "    def get_product_by_id(self, product_id: int) -> Product:\n",
    "        for product in self.products:\n",
    "            if product.product_id == product_id:\n",
    "                return product\n",
    "        return None\n"
   ]
  },
  {
   "cell_type": "code",
   "execution_count": 52,
   "id": "9a589898",
   "metadata": {},
   "outputs": [],
   "source": [
    "class Order:\n",
    "    def __init__(self, order_id: int, product_id: int, quantity: int):\n",
    "        self.order_id = order_id\n",
    "        self.product_id = product_id\n",
    "        self.quantity = quantity\n",
    "\n",
    "    def __repr__(self):\n",
    "        return f\"Order(id={self.order_id}, product_id={self.product_id}, quantity={self.quantity})\"\n",
    "\n",
    "class OrderProcessor:\n",
    "    def __init__(self):\n",
    "        self.orders = []\n",
    "\n",
    "    def create_order(self, order: Order):\n",
    "        self.orders.append(order)\n",
    "\n",
    "    def get_order_by_id(self, order_id: int) -> Order:\n",
    "        for order in self.orders:\n",
    "            if order.order_id == order_id:\n",
    "                return order\n",
    "        return None\n"
   ]
  },
  {
   "cell_type": "code",
   "execution_count": 53,
   "id": "201fce3b",
   "metadata": {},
   "outputs": [
    {
     "name": "stdout",
     "output_type": "stream",
     "text": [
      "Retrieved Product: Product(id=1, name='Laptop', price=999.99)\n",
      "Retrieved Order: Order(id=1, product_id=1, quantity=2)\n"
     ]
    }
   ],
   "source": [
    "# Testing ProductManager and OrderProcessor\n",
    "\n",
    "# Instantiate ProductManager and add a product\n",
    "product_manager = ProductManager()\n",
    "product = Product(1, \"Laptop\", 999.99)\n",
    "product_manager.add_product(product)\n",
    "\n",
    "# Retrieve and display the product\n",
    "retrieved_product = product_manager.get_product_by_id(1)\n",
    "print(f\"Retrieved Product: {retrieved_product}\")\n",
    "\n",
    "# Instantiate OrderProcessor and create an order\n",
    "order_processor = OrderProcessor()\n",
    "order = Order(1, 1, 2)\n",
    "order_processor.create_order(order)\n",
    "\n",
    "# Retrieve and display the order\n",
    "retrieved_order = order_processor.get_order_by_id(1)\n",
    "print(f\"Retrieved Order: {retrieved_order}\")\n"
   ]
  },
  {
   "cell_type": "code",
   "execution_count": 2,
   "id": "8c5004a4",
   "metadata": {},
   "outputs": [],
   "source": [
    "#14.Implement a Python module named string_utils.py containing functions for string manipulation suchas reversing and capitalizing strings."
   ]
  },
  {
   "cell_type": "code",
   "execution_count": 37,
   "id": "3ff2be60",
   "metadata": {},
   "outputs": [
    {
     "name": "stdout",
     "output_type": "stream",
     "text": [
      "Original string: Hello World\n",
      "Reversed string: dlroW olleH\n",
      "Capitalized string: Hello World\n",
      "Uppercase string: HELLO WORLD\n",
      "Lowercase string: hello world\n",
      "Is palindrome: False\n"
     ]
    }
   ],
   "source": [
    "# string_utils.py\n",
    "\n",
    "def reverse_string(s: str) -> str:\n",
    "    \"\"\"Reverses the given string.\"\"\"\n",
    "    return s[::-1]\n",
    "\n",
    "def capitalize_string(s: str) -> str:\n",
    "    \"\"\"Capitalizes the first letter of each word in the given string.\"\"\"\n",
    "    return s.title()\n",
    "\n",
    "def upper_case_string(s: str) -> str:\n",
    "    \"\"\"Converts the entire string to uppercase.\"\"\"\n",
    "    return s.upper()\n",
    "\n",
    "def lower_case_string(s: str) -> str:\n",
    "    \"\"\"Converts the entire string to lowercase.\"\"\"\n",
    "    return s.lower()\n",
    "\n",
    "def is_palindrome(s: str) -> bool:\n",
    "    \"\"\"Checks if the given string is a palindrome.\"\"\"\n",
    "    cleaned_string = ''.join(c.lower() for c in s if c.isalnum())\n",
    "    return cleaned_string == cleaned_string[::-1]\n",
    "\n",
    "if __name__ == \"__main__\":\n",
    "    # Test the functions\n",
    "    test_string = \"Hello World\"\n",
    "    print(f\"Original string: {test_string}\")\n",
    "    print(f\"Reversed string: {reverse_string(test_string)}\")\n",
    "    print(f\"Capitalized string: {capitalize_string(test_string)}\")\n",
    "    print(f\"Uppercase string: {upper_case_string(test_string)}\")\n",
    "    print(f\"Lowercase string: {lower_case_string(test_string)}\")\n",
    "    print(f\"Is palindrome: {is_palindrome(test_string)}\")\n"
   ]
  },
  {
   "cell_type": "code",
   "execution_count": 38,
   "id": "f0f8cdf3",
   "metadata": {},
   "outputs": [],
   "source": [
    "#15.Write a Python module named file_operations.py with functions for reading data to a file."
   ]
  },
  {
   "cell_type": "code",
   "execution_count": 39,
   "id": "046316be",
   "metadata": {},
   "outputs": [
    {
     "name": "stdout",
     "output_type": "stream",
     "text": [
      "Original string: Hello World\n",
      "Reversed string: dlroW olleH\n",
      "Capitalized string: Hello World\n",
      "Uppercase string: HELLO WORLD\n",
      "Lowercase string: hello world\n",
      "Is palindrome: False\n"
     ]
    }
   ],
   "source": [
    "# string_utils.py\n",
    "\n",
    "def reverse_string(s: str) -> str:\n",
    "    \"\"\"Reverses the given string.\"\"\"\n",
    "    return s[::-1]\n",
    "\n",
    "def capitalize_string(s: str) -> str:\n",
    "    \"\"\"Capitalizes the first letter of each word in the given string.\"\"\"\n",
    "    return s.title()\n",
    "\n",
    "def upper_case_string(s: str) -> str:\n",
    "    \"\"\"Converts the entire string to uppercase.\"\"\"\n",
    "    return s.upper()\n",
    "\n",
    "def lower_case_string(s: str) -> str:\n",
    "    \"\"\"Converts the entire string to lowercase.\"\"\"\n",
    "    return s.lower()\n",
    "\n",
    "def is_palindrome(s: str) -> bool:\n",
    "    \"\"\"Checks if the given string is a palindrome.\"\"\"\n",
    "    cleaned_string = ''.join(c.lower() for c in s if c.isalnum())\n",
    "    return cleaned_string == cleaned_string[::-1]\n",
    "\n",
    "if __name__ == \"__main__\":\n",
    "    # Test the functions\n",
    "    test_string = \"Hello World\"\n",
    "    print(f\"Original string: {test_string}\")\n",
    "    print(f\"Reversed string: {reverse_string(test_string)}\")\n",
    "    print(f\"Capitalized string: {capitalize_string(test_string)}\")\n",
    "    print(f\"Uppercase string: {upper_case_string(test_string)}\")\n",
    "    print(f\"Lowercase string: {lower_case_string(test_string)}\")\n",
    "    print(f\"Is palindrome: {is_palindrome(test_string)}\")\n"
   ]
  },
  {
   "cell_type": "code",
   "execution_count": 40,
   "id": "e010c18f",
   "metadata": {},
   "outputs": [],
   "source": [
    "#16.Write a Python program to create a text file named 'employees.txf ' and write the details of employees, including their name, age, and salar,y intothefile.\n"
   ]
  },
  {
   "cell_type": "code",
   "execution_count": 41,
   "id": "016f8e78",
   "metadata": {},
   "outputs": [
    {
     "name": "stdout",
     "output_type": "stream",
     "text": [
      "Employee details have been written to employees.txt.\n"
     ]
    }
   ],
   "source": [
    "# Define a list of employee details\n",
    "employees = [\n",
    "    {\"name\": \"Alice Johnson\", \"age\": 29, \"salary\": 75000},\n",
    "    {\"name\": \"Bob Smith\", \"age\": 35, \"salary\": 82000},\n",
    "    {\"name\": \"Charlie Brown\", \"age\": 42, \"salary\": 95000},\n",
    "    {\"name\": \"Diana Prince\", \"age\": 30, \"salary\": 78000},\n",
    "]\n",
    "\n",
    "# File path\n",
    "file_path = 'employees.txt'\n",
    "\n",
    "# Write employee details to the file\n",
    "with open(file_path, 'w') as file:\n",
    "    for emp in employees:\n",
    "        line = f\"Name: {emp['name']}, Age: {emp['age']}, Salary: ${emp['salary']}\\n\"\n",
    "        file.write(line)\n",
    "\n",
    "print(f\"Employee details have been written to {file_path}.\")\n"
   ]
  },
  {
   "cell_type": "code",
   "execution_count": 42,
   "id": "415eef2a",
   "metadata": {},
   "outputs": [],
   "source": [
    "#17.Develop a Python script that opens an existing text file named \"inventory.txt\" in read mode and displays the contents of the file line by line."
   ]
  },
  {
   "cell_type": "code",
   "execution_count": 43,
   "id": "fbfc9294",
   "metadata": {},
   "outputs": [
    {
     "name": "stdout",
     "output_type": "stream",
     "text": [
      "File handling in Python is a powerful and versatile tool that can be used to perform a wide range of operations. However, it is important to carefully consider the advantages and disadvantages of file handling when writing Python programs, to ensure that the code is secure, reliable, and performs well.\n",
      "\n",
      "In this article we will explore Python File Handling, Advantages, Disadvantages and How open, write and append functions works in python file."
     ]
    }
   ],
   "source": [
    "# Define the file path\n",
    "file_path = 'inventory.txt'\n",
    "\n",
    "# Open the file in read mode and display its contents\n",
    "try:\n",
    "    with open(file_path, 'r') as file:\n",
    "        # Read and print each line in the file\n",
    "        for line in file:\n",
    "            print(line, end='')  # 'end' parameter is used to avoid adding extra newlines\n",
    "except FileNotFoundError:\n",
    "    print(f\"Error: The file '{file_path}' was not found.\")\n",
    "except IOError as e:\n",
    "    print(f\"Error: An IOError occurred. Details: {e}\")\n"
   ]
  },
  {
   "cell_type": "code",
   "execution_count": 44,
   "id": "f5ecddd0",
   "metadata": {},
   "outputs": [],
   "source": [
    "#18.create a Python script that reads a text file named. \"expenses.txt\" and calculates the total amount spent on various expenses listed in the file."
   ]
  },
  {
   "cell_type": "code",
   "execution_count": 50,
   "id": "3c08d013",
   "metadata": {},
   "outputs": [
    {
     "name": "stdout",
     "output_type": "stream",
     "text": [
      "Total amount spent: $89.50\n"
     ]
    }
   ],
   "source": [
    "# Define the file path\n",
    "file_path = 'expenses.txt'\n",
    "\n",
    "def calculate_total_expenses(file_path: str) -> float:\n",
    "    total_amount = 0.0\n",
    "    \n",
    "    try:\n",
    "        with open(file_path, 'r') as file:\n",
    "            for line in file:\n",
    "                # Split the line into description and amount\n",
    "                parts = line.strip().split(',')\n",
    "                if len(parts) == 2:\n",
    "                    description, amount_str = parts\n",
    "                    try:\n",
    "                        # Convert the amount to a float and add to the total\n",
    "                        amount = float(amount_str)\n",
    "                        total_amount += amount\n",
    "                    except ValueError:\n",
    "                        print(f\"Warning: Skipping invalid amount '{amount_str}' in line: {line.strip()}\")\n",
    "                else:\n",
    "                    print(f\"Warning: Skipping malformed line: {line.strip()}\")\n",
    "    \n",
    "    except FileNotFoundError:\n",
    "        print(f\"Error: The file '{file_path}' was not found.\")\n",
    "    except IOError as e:\n",
    "        print(f\"Error: An IOError occurred. Details: {e}\")\n",
    "    \n",
    "    return total_amount\n",
    "\n",
    "# Calculate and print the total expenses\n",
    "total_expenses = calculate_total_expenses(file_path)\n",
    "print(f\"Total amount spent: ${total_expenses:.2f}\")\n"
   ]
  },
  {
   "cell_type": "code",
   "execution_count": 46,
   "id": "f0600c2d",
   "metadata": {},
   "outputs": [],
   "source": [
    "#19.create a Python program that reads a text file named \"paragraph.txt\"and counts the occurrences of eachwordin the paragraph, displaying the results in alphabetical order."
   ]
  },
  {
   "cell_type": "code",
   "execution_count": 49,
   "id": "072f71dd",
   "metadata": {},
   "outputs": [
    {
     "name": "stdout",
     "output_type": "stream",
     "text": [
      "1: 1\n",
      "2: 1\n",
      "3: 1\n",
      "a: 1\n",
      "count: 1\n",
      "for: 1\n",
      "is: 2\n",
      "paragraph: 2\n",
      "sample: 1\n",
      "testing: 3\n",
      "this: 2\n",
      "used: 1\n",
      "word: 1\n"
     ]
    }
   ],
   "source": [
    "from collections import Counter\n",
    "import re\n",
    "\n",
    "# Define the file path\n",
    "file_path = 'paragraph.txt'\n",
    "\n",
    "def count_word_occurrences(file_path: str) -> dict:\n",
    "    word_count = Counter()\n",
    "    \n",
    "    try:\n",
    "        with open(file_path, 'r') as file:\n",
    "            # Read the entire file content\n",
    "            content = file.read()\n",
    "            \n",
    "            # Use regular expression to find words (considering words with alphabets and hyphens)\n",
    "            words = re.findall(r'\\b\\w+\\b', content.lower())\n",
    "            \n",
    "            # Count occurrences of each word\n",
    "            word_count.update(words)\n",
    "    \n",
    "    except FileNotFoundError:\n",
    "        print(f\"Error: The file '{file_path}' was not found.\")\n",
    "    except IOError as e:\n",
    "        print(f\"Error: An IOError occurred. Details: {e}\")\n",
    "    \n",
    "    return word_count\n",
    "\n",
    "def display_word_counts(word_count: dict):\n",
    "    # Check if the word_count dictionary is empty\n",
    "    if not word_count:\n",
    "        print(\"No words found or the file is empty.\")\n",
    "        return\n",
    "\n",
    "    # Sort the dictionary by key (alphabetical order)\n",
    "    for word in sorted(word_count):\n",
    "        print(f\"{word}: {word_count[word]}\")\n",
    "\n",
    "# Get word counts and display them\n",
    "word_counts = count_word_occurrences(file_path)\n",
    "display_word_counts(word_counts)\n"
   ]
  },
  {
   "cell_type": "code",
   "execution_count": null,
   "id": "d691b9c1",
   "metadata": {},
   "outputs": [],
   "source": []
  }
 ],
 "metadata": {
  "kernelspec": {
   "display_name": "Python 3 (ipykernel)",
   "language": "python",
   "name": "python3"
  },
  "language_info": {
   "codemirror_mode": {
    "name": "ipython",
    "version": 3
   },
   "file_extension": ".py",
   "mimetype": "text/x-python",
   "name": "python",
   "nbconvert_exporter": "python",
   "pygments_lexer": "ipython3",
   "version": "3.10.9"
  }
 },
 "nbformat": 4,
 "nbformat_minor": 5
}
